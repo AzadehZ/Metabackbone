{
 "cells": [
  {
   "cell_type": "code",
   "execution_count": null,
   "metadata": {},
   "outputs": [],
   "source": [
    "from itertools import combinations\n",
    "import numpy as np\n",
    "import sys\n",
    "from oxDNA_analysis_tools.UTILS.oxview import oxdna_conf, from_path\n",
    "from oxDNA_analysis_tools.UTILS.RyeReader import describe, get_confs, inbox\n",
    "from oxDNA_analysis_tools.UTILS.data_structures import TopInfo, TrajInfo\n",
    "from pathlib import Path\n",
    "import os\n",
    "from ipy_oxdna.dna_structure import DNAStructure, DNAStructureStrand, load_dna_structure, DNABase, strand_from_info\n",
    "from copy import deepcopy\n",
    "from ipy_oxdna.oxdna_simulation import Simulation \n",
    "import copy\n",
    "from tqdm.auto import tqdm"
   ]
  },
  {
   "cell_type": "code",
   "execution_count": null,
   "metadata": {},
   "outputs": [],
   "source": [
    "# path = '/home/ava/Dropbox (ASU)/temp/Metabackbone/structure_files/six_helix_oxdna_file/unmodified/1512_bp'\n",
    "# file_dir = os.path.join(path,'eq')\n",
    "\n",
    "# path2 = '/home/azare3/metabackbone/python_scratch_work/simulate_and_calc_angles/simulations/1512/modified/'\n",
    "# sim_dir = os.path.join(path2,'prod')\n",
    "\n",
    "# sim = Simulation(file_dir, sim_dir)\n",
    "\n",
    "# top_path = sim.sim_files.top\n",
    "# traj_path = sim.sim_files.traj\n",
    "\n",
    "# top, traj = describe(top_path, traj_path)\n",
    "\n",
    "# # use the get_confs function to get the conformations postiions info read into python memory\n",
    "# confs = get_confs(top , traj , 0, traj.nconfs)\n"
   ]
  },
  {
   "cell_type": "code",
   "execution_count": null,
   "metadata": {},
   "outputs": [],
   "source": [
    "path = '/home/ava/Dropbox (ASU)/temp/Metabackbone/structure_files/six_helix_oxdna_file/unmodified/1512_bp'\n",
    "dat_path = os.path.join(path,'1512_bp.dat')\n",
    "top_path = os.path.join(path,'1512_bp.top')"
   ]
  },
  {
   "cell_type": "code",
   "execution_count": null,
   "metadata": {},
   "outputs": [],
   "source": [
    "# downloading the structure \n",
    "dna = load_dna_structure(top_path, dat_path)      # dna is an instance of DNAstructure object               "
   ]
  },
  {
   "cell_type": "code",
   "execution_count": null,
   "metadata": {},
   "outputs": [],
   "source": [
    "def find_longest_strand(dna):\n",
    "    longest_strand = None\n",
    "    longest_strand_index = -1\n",
    "    max_length = 0\n",
    "    \n",
    "    for index, strand in enumerate(dna.strands):\n",
    "        if len(strand.bases) > max_length:\n",
    "            max_length = len(strand.bases)\n",
    "            longest_strand = strand\n",
    "            longest_strand_index = index\n",
    "    \n",
    "    return longest_strand, longest_strand_index"
   ]
  },
  {
   "cell_type": "code",
   "execution_count": null,
   "metadata": {},
   "outputs": [],
   "source": [
    "longest_strand, longest_strand_index = list(find_longest_strand(dna))\n",
    "print(longest_strand)\n",
    "print(longest_strand_index)\n",
    "print(len(longest_strand.bases))"
   ]
  },
  {
   "cell_type": "code",
   "execution_count": null,
   "metadata": {},
   "outputs": [],
   "source": [
    "def find_cross_over_in_longest_strand(dna):\n",
    "    min_distance = float('inf')        # Initialize the minimum distance to infinity\n",
    "    max_index_difference = 0           # Initialize the maximum index difference to 0\n",
    "    cross_over_bases = (None, None)    # Initialize the crossover bases to (None, None)\n",
    "    num_bases = len(longest_strand)\n",
    "    \n",
    "    # Iterate over all pairs of bases in the longest strand\n",
    "    for i in range(num_bases):\n",
    "        for j in range(i + 1, num_bases):\n",
    "            base_i = longest_strand[i] \n",
    "            base_j = longest_strand[j]\n",
    "            index_difference = abs(base_i.uid - base_j.uid)\n",
    "            distance = np.linalg.norm(np.array(base_i.pos) - np.array(base_j.pos))\n",
    "            \n",
    "            # Check if this pair has the largest index difference and the smallest distance\n",
    "            if index_difference > max_index_difference or (index_difference == max_index_difference and distance < min_distance):\n",
    "                max_index_difference = index_difference\n",
    "                min_distance = distance\n",
    "                cross_over_bases = (base_i, base_j)\n",
    "                \n",
    "        return cross_over_bases, max_index_difference, min_distance"
   ]
  },
  {
   "cell_type": "code",
   "execution_count": null,
   "metadata": {},
   "outputs": [],
   "source": [
    "cross_over_bases, max_index_difference, min_distance = find_cross_over_in_longest_strand(dna)\n",
    "print(f\"Cross over bases: {cross_over_bases}\")\n",
    "print(f\"Largest index difference: {max_index_difference}\")\n",
    "print(f\"Smallest distance: {min_distance}\")"
   ]
  },
  {
   "cell_type": "code",
   "execution_count": null,
   "metadata": {},
   "outputs": [],
   "source": [
    "\n",
    "left_indices = [0,1,2,3,4,5,6,7,8,9,10,11,12,13,14,15,16,17,18,19,143,144,145,146,147,148,149,150,151,152,153,154,155,156,157,158,159,160,161,162,163,164,165,166,167,168,169,170,171,172,173,174,175,176,177,178,391,392,393,394,395,396,397,398,399,400,401,402,403,404,405,406,407,408,409,410,411,412,413,414,415,416,417,418,419,420,421,422,423,424,425,426,427,428,429,430,431,432,433,434,435,436,437,438,1390,1391,1392,1393,1394,1395,1396,1397,1398,1399,1400,1401,1402,1403,1404,1405,1406,1407,1408,1409,1410,1411,1412,1413,1414,1415,1416,1417,1418,1419,1420,1421,1422,1423,1424,1425,1426,1427,1428,1429,1430,1431,1432,1433,1434,1435,1436,1437,1438,1439,1440,1441,1442,1443,1444,1445,1446,1447,1448,1449,1450,1451,1452,1453,1454,2293,2294,2295,2301,2302,2303,2304,2305,2306,2307,2308,2309,2310,2311,2312,2313,2314,2315,2316,2317,2318,2319,2320,2321,2322,2323,2324,2325,2326,2327,2328,2329,2330,2331,2332,2333,2334,2335,2336,2337,2338,2339,2340,2341,2342,2343,2344,2345,2346,2347,2348,2349,2350,2351,2352,2353,2354,2355,2356,2357,2358,2359,2360,2361,2362,2363,2364,2365,2366,2367,2368,2369,2370,2371,2372,2373,2374,2375,2376,2377,2378,2379,2380,2381,2783,2784,2785,2786,2787,2788,2789,2802,2803,2804,2805,2806,3011,3012,3013,3014,3015,3016,3017,3018,3019,3020,3021,3022,3023,3024,3025,3026,3027,3028,3029,3030,3031,3032,3033,3034,3035,3036,3037,3038,3039,3040,3041,3042,3043,3044,3045,3046,3047,3048,3049,3050,3051,3052,3053,3054,3055,3056,3057,3058,3059,3060,3061,3062,3063,3064,3065,3066,3067]\n",
    "right_indices = [20,21,22,23,24,25,26,27,28,29,30,31,32,33,34,35,36,37,38,39,40,41,42,631,632,633,634,635,636,637,638,639,640,641,642,643,644,645,646,647,648,649,650,651,652,653,654,655,656,657,658,659,660,661,662,663,664,665,666,667,668,669,670,671,672,673,674,675,676,677,678,679,680,681,682,683,684,685,686,687,688,689,690,691,692,693,694,695,696,697,698,699,700,701,875,876,877,878,879,880,881,882,883,884,885,886,887,888,889,890,891,892,893,894,895,896,897,898,899,900,901,902,903,904,905,906,907,908,909,910,911,912,913,914,915,916,917,918,919,920,921,922,923,924,925,926,927,928,929,930,931,932,933,934,935,936,937,938,939,940,941,942,943,944,945,946,947,948,949,950,951,952,953,954,955,956,957,958,959,960,961,962,1139,1140,1141,1142,1143,1144,1145,1146,1147,1148,1149,1150,1151,1152,1153,1154,1155,1156,1157,1158,1159,1160,1161,1162,1163,1164,1165,1166,1167,1168,1169,1170,1171,1172,1173,1174,1175,1176,1177,1178,1179,1180,1181,1182,1183,1184,1185,1186,1187,1188,1189,1190,1191,1192,1193,1194,1195,1196,1197,1198,1199,1555,1556,1557,1558,1559,1560,1561,1562,1563,1564,1565,1566,1567,1568,1569,1570,1571,1572,1573,1574,1575,1576,1577,1578,1579,1580,1581,1582,1583,1584,1585,1586,1587,1588,1589,1590,1591,1592,1593,1594,1595,1596,1597,1598,1599,1600,1601,1602,1603,1604,1605,1606,1607,1608,1609,1610,1611,1612,1613,1614,1615,1616,1617,1618,1619,1620,1621,1622,1623,1624,1625,1626,1627,1628,1629,1630,1631,1632,1633,1634,1635,1636,1637,1638,1639,1640,1641,1642,1643,1644,1645,1646,1647,1648,1649,1650,1651,1652,1653,1654,1655,1656,1657,1658,1667,1668,1669,1670,2382,2383,2384,2385,2386,2387,2388,2389,2390,2391,2392,2393,2394,2395,2396,2397,2398,2399,2400,2401,2402,2403,2404,2405,2406,2407,2408,2409,2410,2411,2412,2413,2414,2415,2416,2417,2418,2419,2420,2421,2422,2423,2424,2425,2426,2427,2428,2429,2430,2431,2432,2433,2434,2435,2436,2437,2438,2439,2440,2441,2442,2443,2444,2445,2446,2447,2448,2449,2450,2451,2452,2453,2454,2455,2456,2457,2458,2459,2460,2461,2462,2463,2464,2465,2466,2467,2479,2480,2481,2482,2483,2484,2491,2492,2493,2494,2495,2496,2497,2498,2499,2500,2501,2502,2818,2819,2820,2821,2822,2823]\n",
    "\n",
    "def calculate_position(dna, left_indices, right_indices, t):\n",
    "    left_pos = []\n",
    "    right_pos = []\n",
    "    \n",
    "    # Collect positions for left indices\n",
    "    for strand in dna.strands:\n",
    "        for base in strand:\n",
    "            if base.uid in left_indices:\n",
    "                left_pos.append(base.pos)\n",
    "    \n",
    "    # Collect positions for right indices\n",
    "    for strand in dna.strands:\n",
    "        for base in strand:\n",
    "            if base.uid in right_indices:\n",
    "                right_pos.append(base.pos)\n",
    "    \n",
    "    # Debug prints to check the UIDs\n",
    "    all_uids = [base.uid for strand in dna.strands for base in strand]\n",
    "    print(f\"All base UIDs in DNA: {all_uids}\")\n",
    "    print(f\"Left indices: {left_indices}\")\n",
    "    print(f\"Right indices: {right_indices}\")\n",
    "    print(f\"Left positions found: {left_pos}\")\n",
    "    print(f\"Right positions found: {right_pos}\")\n",
    "    \n",
    "    if left_pos:\n",
    "        cms_left_side = np.mean(left_pos, axis=0)\n",
    "    else:\n",
    "        raise ValueError(\"No positions found for left indices.\")\n",
    "    \n",
    "    if right_pos:\n",
    "        cms_right_side = np.mean(right_pos, axis=0)\n",
    "    else:\n",
    "        raise ValueError(\"No positions found for right indices.\")\n",
    "    \n",
    "    P = np.array(cms_left_side + t * (cms_right_side - cms_left_side))\n",
    "    return P"
   ]
  },
  {
   "cell_type": "code",
   "execution_count": null,
   "metadata": {},
   "outputs": [],
   "source": [
    "P = calculate_position(dna, left_indices, right_indices, 0.5)\n",
    "print(\"Point P on the axis:\", P)"
   ]
  },
  {
   "cell_type": "code",
   "execution_count": null,
   "metadata": {},
   "outputs": [],
   "source": [
    "def find_valid_P(dna, left_indices, right_indices, cross_over_bases, sphere_radius):\n",
    "    t_values = np.linspace(0, 1, 50)\n",
    "    np.random.shuffle(t_values)\n",
    "    \n",
    "    for t in t_values:\n",
    "        P = calculate_position(dna, left_indices, right_indices, t)\n",
    "        distance_to_crossover = min(\n",
    "            np.linalg.norm(P - np.array(cross_over_bases[0].pos)), \n",
    "            np.linalg.norm(P - np.array(cross_over_bases[1].pos))\n",
    "        )\n",
    "        \n",
    "        if distance_to_crossover > (sphere_radius / 4):\n",
    "            return P, t\n",
    "    \n",
    "    raise ValueError(\"Could not find a suitable P far enough from the crossover position.\")\n"
   ]
  },
  {
   "cell_type": "code",
   "execution_count": null,
   "metadata": {},
   "outputs": [],
   "source": [
    "# Find a valid P\n",
    "sphere_radius = 3.17\n",
    "P, t = find_valid_P(dna, left_indices, right_indices, cross_over_bases, sphere_radius)\n",
    "\n",
    "print(f\"Chosen P: {P}, with t: {t}\")"
   ]
  },
  {
   "cell_type": "code",
   "execution_count": null,
   "metadata": {},
   "outputs": [],
   "source": [
    "sphere_radius = 3.17\n",
    "\n",
    "def find_bases_in_sphere(dna, P, sphere_radius):\n",
    "    bases_in_sphere = []\n",
    "    base_to_strand_mapping = {}\n",
    "    \n",
    "    for strand_index, strand in enumerate(dna.strands):\n",
    "        for base in strand:\n",
    "            base_position = np.array(base.pos)\n",
    "            distance = np.linalg.norm(base_position - P)\n",
    "            # print(f\"Base UID: {base.uid}, Position: {base_position}, Distance to P: {distance}\")\n",
    "\n",
    "            if distance < sphere_radius:\n",
    "                bases_in_sphere.append(base.uid)\n",
    "                base_to_strand_mapping[base.uid] = strand_index\n",
    "                # print(f\"Base UID {base.uid} is within the sphere radius\")\n",
    "    \n",
    "    return bases_in_sphere, base_to_strand_mapping"
   ]
  },
  {
   "cell_type": "code",
   "execution_count": null,
   "metadata": {},
   "outputs": [],
   "source": [
    "bases_in_sphere, base_to_strand_mapping = find_bases_in_sphere(dna, P, sphere_radius)\n",
    "print('bases_in_sphere:', bases_in_sphere)\n",
    "print('base_to_strand_mapping:', base_to_strand_mapping)\n",
    "print('Number_bases_in_sphere:', len(bases_in_sphere))"
   ]
  },
  {
   "cell_type": "code",
   "execution_count": null,
   "metadata": {},
   "outputs": [],
   "source": [
    "def remove_strands_in_sphere(dna, P, sphere_radius):\n",
    "    \n",
    "    bases_in_sphere, base_to_strand_mapping = find_bases_in_sphere(dna, P, sphere_radius)\n",
    "    longest_strand, longest_strand_index = find_longest_strand(dna)\n",
    "    \n",
    "    print(bases_in_sphere)\n",
    "    print(base_to_strand_mapping)\n",
    "    print(longest_strand)\n",
    "    print(longest_strand_index)\n",
    "    \n",
    "    strands_to_remove = set(base_to_strand_mapping.values()) - {longest_strand_index}\n",
    "    print(strands_to_remove)\n",
    "    \n",
    "    dna_structures = []\n",
    "    \n",
    "    for strand_index in strands_to_remove:\n",
    "        strand_list = []\n",
    "        \n",
    "        for idx, strand in enumerate(dna.strands):\n",
    "            if idx != strand_index:\n",
    "                strand_list.append(strand)\n",
    "        \n",
    "        new_dna_structure = DNAStructure(strand_list, dna.time, dna.box, dna.energy)\n",
    "        \n",
    "        dna_structures.append(new_dna_structure)\n",
    "        export_path = '/home/ava/Dropbox (ASU)/temp/Metabackbone/structure_files/six_helix_oxdna_file/Automatically_removed_staples/1512_bp'\n",
    "        \n",
    "        # Generate paths for exporting the new structure\n",
    "        dat_path = os.path.join(export_path, '1512_bp_rmv_stpls.dat')\n",
    "        top_path = os.path.join(export_path, '1512_bp_rmv_stpls.top')\n",
    "        \n",
    "        # Export the topology and configuration files\n",
    "        new_dna_structure.export_top_conf(Path(top_path), Path(dat_path))\n",
    "    \n",
    "    return dna_structures"
   ]
  },
  {
   "cell_type": "code",
   "execution_count": null,
   "metadata": {},
   "outputs": [],
   "source": [
    "# Use the function\n",
    "new_dna_structures = remove_strands_in_sphere(dna, P, sphere_radius)\n",
    "print(new_dna_structures)\n",
    "print()\n",
    "\n",
    "print(len(new_dna_structures))\n",
    "print()\n",
    "\n",
    "for i, new_dna in enumerate(new_dna_structures):\n",
    "    print(f\"New DNA structure {i+1}:\")\n",
    "    print(new_dna.get_num_bases())\n",
    "    print()"
   ]
  },
  {
   "cell_type": "code",
   "execution_count": null,
   "metadata": {},
   "outputs": [],
   "source": [
    "# Define the base path for export\n",
    "base_path = '/home/ava/Dropbox (ASU)/temp/Metabackbone/structure_files/six_helix_oxdna_file/Automatically_removed_staples/1512_bp'\n",
    "\n",
    "# Iterate over the new DNA structures and generate unique paths for each\n",
    "for i, new_dna in enumerate(new_dna_structures):\n",
    "    structure_id = i + 1  # Unique identifier for each structure\n",
    "    \n",
    "    # Create a unique subdirectory for each new structure\n",
    "    unique_subdir = os.path.join(base_path, f'structure_{structure_id}')\n",
    "    os.makedirs(unique_subdir, exist_ok=True)\n",
    "    \n",
    "    # Generate paths for the .dat and .top files\n",
    "    dat_path = os.path.join(unique_subdir, '1512_bp_rmv_bases.dat')\n",
    "    top_path = os.path.join(unique_subdir, '1512_bp_rmv_bases.top')\n",
    "    \n",
    "    # Export the new DNA structure to the unique path\n",
    "    new_dna.export_top_conf(Path(top_path), Path(dat_path))\n",
    "    \n",
    "    print(f\"New DNA structure {structure_id} exported to {unique_subdir}\")"
   ]
  }
 ],
 "metadata": {
  "kernelspec": {
   "display_name": "pypatchy",
   "language": "python",
   "name": "python3"
  },
  "language_info": {
   "codemirror_mode": {
    "name": "ipython",
    "version": 3
   },
   "file_extension": ".py",
   "mimetype": "text/x-python",
   "name": "python",
   "nbconvert_exporter": "python",
   "pygments_lexer": "ipython3",
   "version": "3.12.3"
  }
 },
 "nbformat": 4,
 "nbformat_minor": 2
}
