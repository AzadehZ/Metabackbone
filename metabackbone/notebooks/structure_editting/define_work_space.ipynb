{
 "cells": [
  {
   "cell_type": "code",
   "execution_count": 1,
   "metadata": {},
   "outputs": [],
   "source": [
    "from itertools import combinations\n",
    "import numpy as np\n",
    "import sys\n",
    "from oxDNA_analysis_tools.UTILS.oxview import oxdna_conf, from_path\n",
    "from oxDNA_analysis_tools.UTILS.RyeReader import describe, get_confs, inbox\n",
    "from oxDNA_analysis_tools.UTILS.data_structures import TopInfo, TrajInfo\n",
    "from pathlib import Path\n",
    "import os\n",
    "from ipy_oxdna.dna_structure import DNAStructure, DNAStructureStrand, load_dna_structure, DNABase, strand_from_info\n",
    "from copy import deepcopy\n",
    "from ipy_oxdna.oxdna_simulation import Simulation, SimulationManager\n",
    "import copy\n",
    "from tqdm.auto import tqdm\n"
   ]
  },
  {
   "cell_type": "code",
   "execution_count": 2,
   "metadata": {},
   "outputs": [],
   "source": [
    "# path = '/home/ava/Dropbox (ASU)/temp/Metabackbone/structure_files/six_helix_oxdna_file/unmodified/1512_bp'\n",
    "# file_dir = os.path.join(path,'eq')\n",
    "\n",
    "# path2 = '/home/azare3/metabackbone/python_scratch_work/simulate_and_calc_angles/simulations/1512/modified/'\n",
    "# sim_dir = os.path.join(path2,'prod')\n",
    "\n",
    "# sim = Simulation(file_dir, sim_dir)\n",
    "\n",
    "# top_path = sim.sim_files.top\n",
    "# traj_path = sim.sim_files.traj\n",
    "\n",
    "# top, traj = describe(top_path, traj_path)\n",
    "\n",
    "# # use the get_confs function to get the conformations postiions info read into python memory\n",
    "# confs = get_confs(top , traj , 0, traj.nconfs)\n"
   ]
  },
  {
   "cell_type": "code",
   "execution_count": 3,
   "metadata": {},
   "outputs": [],
   "source": [
    "path = '/home/ava/Dropbox (ASU)/temp/Metabackbone/structure_files/six_helix_oxdna_file/unmodified/1512_bp'\n",
    "dat_path = os.path.join(path,'1512_bp.dat')\n",
    "top_path = os.path.join(path,'1512_bp.top')\n"
   ]
  },
  {
   "cell_type": "code",
   "execution_count": 4,
   "metadata": {},
   "outputs": [
    {
     "name": "stderr",
     "output_type": "stream",
     "text": [
      "INFO: processed 0 / 1 confs\r"
     ]
    }
   ],
   "source": [
    "# downloading the structure \n",
    "dna = load_dna_structure(top_path, dat_path)      # dna is an instance of DNAstructure object               "
   ]
  },
  {
   "cell_type": "code",
   "execution_count": 5,
   "metadata": {},
   "outputs": [],
   "source": [
    "def find_longest_strand(dna):\n",
    "    longest_strand = None\n",
    "    longest_strand_index = -1\n",
    "    max_length = 0\n",
    "    \n",
    "    for index, strand in enumerate(dna.strands):\n",
    "        if len(strand.bases) > max_length:\n",
    "            max_length = len(strand.bases)\n",
    "            longest_strand = strand\n",
    "            longest_strand_index = index\n",
    "    \n",
    "    return longest_strand, longest_strand_index"
   ]
  },
  {
   "cell_type": "code",
   "execution_count": 6,
   "metadata": {},
   "outputs": [],
   "source": [
    "longest_strand, longest_strand_index = list(find_longest_strand(dna))\n",
    "# print(longest_strand)\n",
    "# print(longest_strand_index)\n",
    "# print(len(longest_strand.bases))\n",
    "# print(longest_strand[0])\n",
    "# print(longest_strand[1])\n",
    "# print(longest_strand[0].uid)\n"
   ]
  },
  {
   "cell_type": "code",
   "execution_count": 7,
   "metadata": {},
   "outputs": [],
   "source": [
    "def find_cross_over_in_longest_strand(dna):\n",
    "    min_distance = float('inf')\n",
    "    max_index_difference = 0\n",
    "    cross_over_bases_max = (None, None)\n",
    "    num_bases = len(longest_strand)\n",
    "\n",
    "    # Iterate over all pairs of bases in the DNA strand\n",
    "    for i in range(num_bases):\n",
    "        for j in range(i + 1, num_bases):\n",
    "            base_i = longest_strand[i]\n",
    "            base_j = longest_strand[j]\n",
    "            index_difference = abs(base_i.uid - base_j.uid)\n",
    "            distance = np.linalg.norm(np.array(base_i.pos) - np.array(base_j.pos))\n",
    "\n",
    "            # Update if the index difference is the largest seen so far\n",
    "            if index_difference > max_index_difference or (index_difference == max_index_difference and distance < min_distance):\n",
    "                max_index_difference = index_difference\n",
    "                min_distance = distance\n",
    "                cross_over_bases_max = (base_i, base_j)\n",
    "            \n",
    "   \n",
    "    # Find pairs that have almost the same distance as min_distance and are in the close vicinity\n",
    "    similar_distance_pairs = []\n",
    "    distance_tolerance = 0.1 * min_distance\n",
    "    vicinity_tolerance = 1.0  # Adjust this value as needed\n",
    "\n",
    "    for i in range(num_bases):\n",
    "        for j in range(i + 1, num_bases):\n",
    "            base_i = longest_strand[i]\n",
    "            base_j = longest_strand[j]\n",
    "            distance = np.linalg.norm(np.array(base_i.pos) - np.array(base_j.pos))\n",
    "            \n",
    "            # Check if the distance is within the tolerance range of the min_distance\n",
    "            if abs(distance - min_distance) <= distance_tolerance:\n",
    "                \n",
    "                # Check if the bases are in the vicinity of the cross_over_bases_max pair\n",
    "                dist_to_max_0 = np.linalg.norm(np.array(base_i.pos) - np.array(cross_over_bases_max[0].pos))\n",
    "                dist_to_max_1 = np.linalg.norm(np.array(base_j.pos) - np.array(cross_over_bases_max[1].pos))\n",
    "\n",
    "                if dist_to_max_0 <= vicinity_tolerance and dist_to_max_1 <= vicinity_tolerance:\n",
    "                    # Avoid selecting the same pair as cross_over_bases_max\n",
    "                    if {base_i.uid, base_j.uid} != {cross_over_bases_max[0].uid, cross_over_bases_max[1].uid}:\n",
    "                        similar_distance_pairs.append((base_i, base_j, distance))\n",
    "    \n",
    "             \n",
    "              \n",
    "    # Select two pairs closest to the min_distance\n",
    "    similar_distance_pairs_sorted = sorted(similar_distance_pairs, key=lambda x: abs(x[2] - min_distance))\n",
    "    closest_pairs = similar_distance_pairs_sorted[:2] # Get up to two closest pairs\n",
    "    \n",
    "    \n",
    "    crossover_positions = [cross_over_bases_max[0].pos, cross_over_bases_max[1].pos]\n",
    "    closest_pairs_positions = [(pair[0].pos, pair[1].pos) for pair in closest_pairs]\n",
    "    \n",
    "    \n",
    "    # print('cross_over_bases_max:', cross_over_bases_max)\n",
    "    # print()\n",
    "    # print(\"cross_over_bases_max[0]:\", cross_over_bases_max[0])\n",
    "    # print()\n",
    "    # print(\"cross_over_bases_max[1]:\", cross_over_bases_max[1])\n",
    "    # print()\n",
    "    # print(\"cross_over_bases_max[0]_pos:\", cross_over_bases_max[0].pos)\n",
    "    # print()\n",
    "    # print(\"cross_over_bases_max[1]_pos:\", cross_over_bases_max[1].pos)\n",
    "    # print()\n",
    "    # print('similar_distance_pairs:', similar_distance_pairs)\n",
    "    # print()\n",
    "    # print('similar_distance_pairs[0]:', similar_distance_pairs[0])\n",
    "    # print()\n",
    "    # print('similar_distance_pairs[1]:', similar_distance_pairs[1])\n",
    "    # print()\n",
    "    # print('similar_distance_pairs[2]:', similar_distance_pairs[2])\n",
    "    # print()\n",
    "    # print('closest_pair:', closest_pairs)\n",
    "    # print()\n",
    "    # print('closest_pair[0]:', closest_pairs[0])\n",
    "    # print()\n",
    "    # print('closest_pair[1]:', closest_pairs[1])\n",
    "    # print()\n",
    "    # print(\"max_index_difference:\", max_index_difference)\n",
    "    # print()\n",
    "    # print(\"min_distance:\", min_distance)\n",
    "    # print()\n",
    "    \n",
    "    # # Print the elements of the closest pairs separately\n",
    "    # for idx, (base_i, base_j, dist) in enumerate(closest_pairs):\n",
    "    #     print(f\"Closest pair {idx + 1}:\")\n",
    "    #     print(f\"  Base 1: UID = {base_i.uid}, Position = {base_i.pos}\")\n",
    "    #     print(f\"  Base 2: UID = {base_j.uid}, Position = {base_j.pos}\")\n",
    "    #     print(f\"  Distance: {dist}\\n\")\n",
    "\n",
    "    return cross_over_bases_max, max_index_difference, min_distance, closest_pairs, crossover_positions, closest_pairs_positions\n",
    "\n"
   ]
  },
  {
   "cell_type": "code",
   "execution_count": 8,
   "metadata": {},
   "outputs": [
    {
     "name": "stdout",
     "output_type": "stream",
     "text": [
      "\n",
      "Pairing base1 of the first pair with base2 of the second pair:\n",
      "\n",
      "Base 1 (First Pair): UID = 43, Position = [ 2.10507846 -0.6867429   0.12683482]\n",
      "Base 2 (Second Pair): UID = 1554, Position = [2.37799716 0.69653118 0.12683482]\n",
      "Distance between them: 1.4099403509855792\n",
      "\n",
      "\n",
      "Pairing base2 of the first pair with base1 of the second pair:\n",
      "\n",
      "Base 2 (First Pair): UID = 1051, Position = [ 2.0472362   0.69488323 -0.26292804]\n",
      "Base 1 (Second Pair): UID = 1050, Position = [ 2.45607257 -0.73044026 -0.26292804]\n",
      "Distance between them: 1.4827994516512886\n",
      "\n",
      "\n",
      "Pairing base2 of the first pair with base2 of the second pair:\n",
      "\n",
      "Base 2 (First Pair): UID = 1051, Position = [ 2.0472362   0.69488323 -0.26292804]\n",
      "Base 2 (Second Pair): UID = 1554, Position = [2.37799716 0.69653118 0.12683482]\n",
      "Distance between them: 0.5111952810836146\n",
      "\n",
      "\n",
      "Pairing base1 of the first pair with base1 of the second pair:\n",
      "\n",
      "Base 1 (First Pair): UID = 43, Position = [ 2.10507846 -0.6867429   0.12683482]\n",
      "Base 1 (Second Pair): UID = 1050, Position = [ 2.45607257 -0.73044026 -0.26292804]\n",
      "Distance between them: 0.5263282380143033\n",
      "\n"
     ]
    }
   ],
   "source": [
    "cross_over_bases_max, max_index_difference, min_distance, closest_pairs, crossover_positions, closest_pairs_positions = find_cross_over_in_longest_strand(dna)\n",
    "\n",
    "# # Print all pairs in closest_pairs\n",
    "# if closest_pairs:\n",
    "#     for index, pair in enumerate(closest_pairs):\n",
    "#         base1, base2, distance = pair\n",
    "#         print(f\"Pair {index + 1}:\")\n",
    "#         print(f\"  Base 1: UID = {base1.uid}, Position = {base1.pos}\")\n",
    "#         print(f\"  Base 2: UID = {base2.uid}, Position = {base2.pos}\")\n",
    "#         print(f\"  Distance: {distance}\\n\")\n",
    "# else:\n",
    "#     print(\"The closest_pairs list is empty.\")\n",
    "\n",
    "# Pair base1 of the first pair with base2 of the second pair and measure the distance\n",
    "if len(closest_pairs) >= 2:\n",
    "    # Get the first and second pairs from the closest_pairs list\n",
    "    first_pair = closest_pairs[0]\n",
    "    second_pair = closest_pairs[1]\n",
    "\n",
    "    # Extract base1 from the first pair and base2 from the second pair\n",
    "    base1_first_pair = first_pair[0]\n",
    "    base2_second_pair = second_pair[1]\n",
    "\n",
    "    # Calculate the distance between base1 of the first pair and base2 of the second pair\n",
    "    distance_between_bases_1_2 = np.linalg.norm(\n",
    "        np.array(base1_first_pair.pos) - np.array(base2_second_pair.pos)\n",
    "    )\n",
    "\n",
    "    # Print the details of the bases and the calculated distance\n",
    "    print(\"\\nPairing base1 of the first pair with base2 of the second pair:\\n\")\n",
    "    print(f\"Base 1 (First Pair): UID = {base1_first_pair.uid}, Position = {base1_first_pair.pos}\")\n",
    "    print(f\"Base 2 (Second Pair): UID = {base2_second_pair.uid}, Position = {base2_second_pair.pos}\")\n",
    "    print(f\"Distance between them: {distance_between_bases_1_2}\\n\")\n",
    "else:\n",
    "    print(\"\\nNot enough pairs in the closest_pairs list to perform the operation.\\n\")\n",
    "\n",
    "# Pair base2 of the first pair with base1 of the second pair and measure the distance\n",
    "if len(closest_pairs) >= 2:\n",
    "    base2_first_pair = first_pair[1]\n",
    "    base1_second_pair = second_pair[0]\n",
    "\n",
    "    distance_between_bases_2_1 = np.linalg.norm(\n",
    "        np.array(base2_first_pair.pos) - np.array(base1_second_pair.pos)\n",
    "    )\n",
    "\n",
    "    print(\"\\nPairing base2 of the first pair with base1 of the second pair:\\n\")\n",
    "    print(f\"Base 2 (First Pair): UID = {base2_first_pair.uid}, Position = {base2_first_pair.pos}\")\n",
    "    print(f\"Base 1 (Second Pair): UID = {base1_second_pair.uid}, Position = {base1_second_pair.pos}\")\n",
    "    print(f\"Distance between them: {distance_between_bases_2_1}\\n\")\n",
    "else:\n",
    "    print(\"\\nNot enough pairs in the closest_pairs list to perform the operation.\\n\")\n",
    "\n",
    "# Pair base2 of the first pair with base2 of the second pair and measure the distance\n",
    "if len(closest_pairs) >= 2:\n",
    "    base2_first_pair = first_pair[1]\n",
    "    base2_second_pair = second_pair[1]\n",
    "\n",
    "    distance_between_bases_2_2 = np.linalg.norm(\n",
    "        np.array(base2_first_pair.pos) - np.array(base2_second_pair.pos)\n",
    "    )\n",
    "\n",
    "    print(\"\\nPairing base2 of the first pair with base2 of the second pair:\\n\")\n",
    "    print(f\"Base 2 (First Pair): UID = {base2_first_pair.uid}, Position = {base2_first_pair.pos}\")\n",
    "    print(f\"Base 2 (Second Pair): UID = {base2_second_pair.uid}, Position = {base2_second_pair.pos}\")\n",
    "    print(f\"Distance between them: {distance_between_bases_2_2}\\n\")\n",
    "else:\n",
    "    print(\"\\nNot enough pairs in the closest_pairs list to perform the operation.\\n\")\n",
    "\n",
    "# Pair base1 of the first pair with base1 of the second pair and measure the distance\n",
    "if len(closest_pairs) >= 2:\n",
    "    base1_first_pair = first_pair[0]\n",
    "    base1_second_pair = second_pair[0]\n",
    "\n",
    "    distance_between_base1s = np.linalg.norm(\n",
    "        np.array(base1_first_pair.pos) - np.array(base1_second_pair.pos)\n",
    "    )\n",
    "\n",
    "    print(\"\\nPairing base1 of the first pair with base1 of the second pair:\\n\")\n",
    "    print(f\"Base 1 (First Pair): UID = {base1_first_pair.uid}, Position = {base1_first_pair.pos}\")\n",
    "    print(f\"Base 1 (Second Pair): UID = {base1_second_pair.uid}, Position = {base1_second_pair.pos}\")\n",
    "    print(f\"Distance between them: {distance_between_base1s}\\n\")\n",
    "else:\n",
    "    print(\"\\nNot enough pairs in the closest_pairs list to perform the operation.\\n\")\n",
    "\n",
    "\n"
   ]
  },
  {
   "cell_type": "code",
   "execution_count": 9,
   "metadata": {},
   "outputs": [],
   "source": [
    "# # Output the results\n",
    "# print(f\"Cross-over bases with max index difference: {cross_over_bases_max}\")\n",
    "# print(f\"Largest index difference: {max_index_difference}\")\n",
    "# print(f\"Smallest distance with max index difference: {min_distance}\")\n",
    "# print(\"Two pairs with distances close to the min distance in the close vicinity:\")\n",
    "# for pair in closest_pairs:\n",
    "#     print(f\"Bases: ({pair[0].uid}, {pair[1].uid}), Distance: {pair[2]}\")\n"
   ]
  },
  {
   "cell_type": "code",
   "execution_count": 10,
   "metadata": {},
   "outputs": [],
   "source": [
    "\n",
    "left_indices = [0,1,2,3,4,5,6,7,8,9,10,11,12,13,14,15,16,17,18,19,143,144,145,146,147,148,149,150,151,152,153,154,155,156,157,158,159,160,161,162,163,164,165,166,167,168,169,170,171,172,173,174,175,176,177,178,391,392,393,394,395,396,397,398,399,400,401,402,403,404,405,406,407,408,409,410,411,412,413,414,415,416,417,418,419,420,421,422,423,424,425,426,427,428,429,430,431,432,433,434,435,436,437,438,1390,1391,1392,1393,1394,1395,1396,1397,1398,1399,1400,1401,1402,1403,1404,1405,1406,1407,1408,1409,1410,1411,1412,1413,1414,1415,1416,1417,1418,1419,1420,1421,1422,1423,1424,1425,1426,1427,1428,1429,1430,1431,1432,1433,1434,1435,1436,1437,1438,1439,1440,1441,1442,1443,1444,1445,1446,1447,1448,1449,1450,1451,1452,1453,1454,2293,2294,2295,2301,2302,2303,2304,2305,2306,2307,2308,2309,2310,2311,2312,2313,2314,2315,2316,2317,2318,2319,2320,2321,2322,2323,2324,2325,2326,2327,2328,2329,2330,2331,2332,2333,2334,2335,2336,2337,2338,2339,2340,2341,2342,2343,2344,2345,2346,2347,2348,2349,2350,2351,2352,2353,2354,2355,2356,2357,2358,2359,2360,2361,2362,2363,2364,2365,2366,2367,2368,2369,2370,2371,2372,2373,2374,2375,2376,2377,2378,2379,2380,2381,2783,2784,2785,2786,2787,2788,2789,2802,2803,2804,2805,2806,3011,3012,3013,3014,3015,3016,3017,3018,3019,3020,3021,3022,3023,3024,3025,3026,3027,3028,3029,3030,3031,3032,3033,3034,3035,3036,3037,3038,3039,3040,3041,3042,3043,3044,3045,3046,3047,3048,3049,3050,3051,3052,3053,3054,3055,3056,3057,3058,3059,3060,3061,3062,3063,3064,3065,3066,3067]\n",
    "right_indices = [20,21,22,23,24,25,26,27,28,29,30,31,32,33,34,35,36,37,38,39,40,41,42,631,632,633,634,635,636,637,638,639,640,641,642,643,644,645,646,647,648,649,650,651,652,653,654,655,656,657,658,659,660,661,662,663,664,665,666,667,668,669,670,671,672,673,674,675,676,677,678,679,680,681,682,683,684,685,686,687,688,689,690,691,692,693,694,695,696,697,698,699,700,701,875,876,877,878,879,880,881,882,883,884,885,886,887,888,889,890,891,892,893,894,895,896,897,898,899,900,901,902,903,904,905,906,907,908,909,910,911,912,913,914,915,916,917,918,919,920,921,922,923,924,925,926,927,928,929,930,931,932,933,934,935,936,937,938,939,940,941,942,943,944,945,946,947,948,949,950,951,952,953,954,955,956,957,958,959,960,961,962,1139,1140,1141,1142,1143,1144,1145,1146,1147,1148,1149,1150,1151,1152,1153,1154,1155,1156,1157,1158,1159,1160,1161,1162,1163,1164,1165,1166,1167,1168,1169,1170,1171,1172,1173,1174,1175,1176,1177,1178,1179,1180,1181,1182,1183,1184,1185,1186,1187,1188,1189,1190,1191,1192,1193,1194,1195,1196,1197,1198,1199,1555,1556,1557,1558,1559,1560,1561,1562,1563,1564,1565,1566,1567,1568,1569,1570,1571,1572,1573,1574,1575,1576,1577,1578,1579,1580,1581,1582,1583,1584,1585,1586,1587,1588,1589,1590,1591,1592,1593,1594,1595,1596,1597,1598,1599,1600,1601,1602,1603,1604,1605,1606,1607,1608,1609,1610,1611,1612,1613,1614,1615,1616,1617,1618,1619,1620,1621,1622,1623,1624,1625,1626,1627,1628,1629,1630,1631,1632,1633,1634,1635,1636,1637,1638,1639,1640,1641,1642,1643,1644,1645,1646,1647,1648,1649,1650,1651,1652,1653,1654,1655,1656,1657,1658,1667,1668,1669,1670,2382,2383,2384,2385,2386,2387,2388,2389,2390,2391,2392,2393,2394,2395,2396,2397,2398,2399,2400,2401,2402,2403,2404,2405,2406,2407,2408,2409,2410,2411,2412,2413,2414,2415,2416,2417,2418,2419,2420,2421,2422,2423,2424,2425,2426,2427,2428,2429,2430,2431,2432,2433,2434,2435,2436,2437,2438,2439,2440,2441,2442,2443,2444,2445,2446,2447,2448,2449,2450,2451,2452,2453,2454,2455,2456,2457,2458,2459,2460,2461,2462,2463,2464,2465,2466,2467,2479,2480,2481,2482,2483,2484,2491,2492,2493,2494,2495,2496,2497,2498,2499,2500,2501,2502,2818,2819,2820,2821,2822,2823]\n",
    "\n",
    "def calculate_position(dna, left_indices, right_indices, t):\n",
    "    left_pos = []\n",
    "    right_pos = []\n",
    "    \n",
    "    # Collect positions for left indices\n",
    "    for strand in dna.strands:\n",
    "        for base in strand:\n",
    "            if base.uid in left_indices:\n",
    "                left_pos.append(base.pos)\n",
    "    \n",
    "    # Collect positions for right indices\n",
    "    for strand in dna.strands:\n",
    "        for base in strand:\n",
    "            if base.uid in right_indices:\n",
    "                right_pos.append(base.pos)\n",
    "    \n",
    "    # Debug prints to check the UIDs\n",
    "    all_uids = [base.uid for strand in dna.strands for base in strand]\n",
    "    # print(f\"All base UIDs in DNA: {all_uids}\")\n",
    "    # print(f\"Left indices: {left_indices}\")\n",
    "    # print(f\"Right indices: {right_indices}\")\n",
    "    # print(f\"Left positions found: {left_pos}\")\n",
    "    # print(f\"Right positions found: {right_pos}\")\n",
    "    \n",
    "    if left_pos:\n",
    "        cms_left_side = np.mean(left_pos, axis=0)\n",
    "    else:\n",
    "        raise ValueError(\"No positions found for left indices.\")\n",
    "    \n",
    "    if right_pos:\n",
    "        cms_right_side = np.mean(right_pos, axis=0)\n",
    "    else:\n",
    "        raise ValueError(\"No positions found for right indices.\")\n",
    "    \n",
    "    P = np.array(cms_left_side + t * (cms_right_side - cms_left_side))\n",
    "    return P"
   ]
  },
  {
   "cell_type": "code",
   "execution_count": 11,
   "metadata": {},
   "outputs": [
    {
     "name": "stdout",
     "output_type": "stream",
     "text": [
      "Point P on the axis: [0.05719734 0.06947511 1.17988527]\n"
     ]
    }
   ],
   "source": [
    "P = calculate_position(dna, left_indices, right_indices, 0.5)\n",
    "print(\"Point P on the axis:\", P)"
   ]
  },
  {
   "cell_type": "code",
   "execution_count": 12,
   "metadata": {},
   "outputs": [],
   "source": [
    "def find_valid_P(dna, left_indices, right_indices, cross_over_bases_max, closest_pairs_positions, sphere_radius):\n",
    "    t_values = np.linspace(0, 1, 100)\n",
    "    np.random.shuffle(t_values)\n",
    "    \n",
    "    crossover_positions = [cross_over_bases_max[0].pos, cross_over_bases_max[1].pos]\n",
    "    tolerance_distance = sphere_radius / 2  # Adjust as needed\n",
    "\n",
    "    for t in t_values:\n",
    "        P = calculate_position(dna, left_indices, right_indices, t)\n",
    "        far_enough = all(\n",
    "            np.linalg.norm(P - np.array(pos)) > tolerance_distance\n",
    "            for pos in crossover_positions\n",
    "        )\n",
    "        far_enough_pairs = all(\n",
    "            np.linalg.norm(P - np.array(pair_pos[0])) > tolerance_distance and\n",
    "            np.linalg.norm(P - np.array(pair_pos[1])) > tolerance_distance\n",
    "            for pair_pos in closest_pairs_positions\n",
    "        )\n",
    "\n",
    "        if far_enough and far_enough_pairs:\n",
    "            return P, t\n",
    "    \n",
    "    raise ValueError(\"Could not find a suitable P far enough from the crossover positions.\")\n"
   ]
  },
  {
   "cell_type": "code",
   "execution_count": 13,
   "metadata": {},
   "outputs": [
    {
     "name": "stdout",
     "output_type": "stream",
     "text": [
      "Selected point P: [  0.05066414  -0.11460527 -28.37566288] at t=0.8383838383838385\n"
     ]
    }
   ],
   "source": [
    "sphere_radius = 3.5\n",
    "cross_over_bases_max, max_index_difference, min_distance, closest_pairs, crossover_positions, closest_pairs_positions = find_cross_over_in_longest_strand(dna)\n",
    "P, t = find_valid_P(dna, left_indices, right_indices, cross_over_bases_max, closest_pairs_positions, sphere_radius)\n",
    "print(f\"Selected point P: {P} at t={t}\")"
   ]
  },
  {
   "cell_type": "code",
   "execution_count": 14,
   "metadata": {},
   "outputs": [],
   "source": [
    "sphere_radius = 3.5\n",
    "\n",
    "def find_bases_in_sphere(dna, P, sphere_radius):\n",
    "    bases_in_sphere = []\n",
    "    base_to_strand_mapping = {}\n",
    "    \n",
    "    for strand_index, strand in enumerate(dna.strands):\n",
    "        for base in strand:\n",
    "            base_position = np.array(base.pos)\n",
    "            distance = np.linalg.norm(base_position - P)\n",
    "            # print(f\"Base UID: {base.uid}, Position: {base_position}, Distance to P: {distance}\")\n",
    "\n",
    "            if distance < sphere_radius:\n",
    "                bases_in_sphere.append(base.uid)\n",
    "                base_to_strand_mapping[base.uid] = strand_index\n",
    "                # print(f\"Base UID {base.uid} is within the sphere radius\")\n",
    "    \n",
    "    return bases_in_sphere, base_to_strand_mapping"
   ]
  },
  {
   "cell_type": "code",
   "execution_count": 15,
   "metadata": {},
   "outputs": [
    {
     "name": "stdout",
     "output_type": "stream",
     "text": [
      "bases_in_sphere: [609, 610, 611, 612, 613, 614, 615, 616, 715, 716, 717, 718, 719, 720, 721, 722, 723, 724, 725, 726, 727, 851, 852, 853, 854, 855, 856, 857, 858, 859, 860, 861, 862, 863, 864, 974, 975, 976, 977, 978, 979, 980, 981, 982, 1116, 1117, 1118, 1119, 1120, 1121, 1122, 1123, 1124, 1125, 1126, 1127, 1128, 1209, 1210, 1211, 1212, 1213, 1214, 1215, 1216, 1217, 1218, 1219, 1220, 1221, 1222, 1671, 1672, 1673, 1674, 1675, 1676, 1677, 1678, 1679, 1680, 1681, 1682, 1707, 1708, 1709, 1710, 1711, 1712, 1713, 1714, 1715, 1716, 1717, 1718, 1719, 1720, 1721, 1722, 1723, 1724, 1725, 1726, 1727, 1728, 1729, 1730, 1731, 1732, 1738, 1739, 1740, 2468, 2512, 2513, 2514, 2515, 2516, 2517, 2518, 2519, 2520, 2524, 2525, 2526, 2527, 2528, 2529, 2530, 2531, 2532, 2533, 2534, 2535, 2536, 2537, 2831, 2839, 2840, 2841, 2842, 2843]\n",
      "base_to_strand_mapping: {609: 2, 610: 2, 611: 2, 612: 2, 613: 2, 614: 2, 615: 2, 616: 2, 715: 2, 716: 2, 717: 2, 718: 2, 719: 2, 720: 2, 721: 2, 722: 2, 723: 2, 724: 2, 725: 2, 726: 2, 727: 2, 851: 2, 852: 2, 853: 2, 854: 2, 855: 2, 856: 2, 857: 2, 858: 2, 859: 2, 860: 2, 861: 2, 862: 2, 863: 2, 864: 2, 974: 2, 975: 2, 976: 2, 977: 2, 978: 2, 979: 2, 980: 2, 981: 2, 982: 2, 1116: 2, 1117: 2, 1118: 2, 1119: 2, 1120: 2, 1121: 2, 1122: 2, 1123: 2, 1124: 2, 1125: 2, 1126: 2, 1127: 2, 1128: 2, 1209: 2, 1210: 2, 1211: 2, 1212: 2, 1213: 2, 1214: 2, 1215: 2, 1216: 2, 1217: 2, 1218: 2, 1219: 2, 1220: 2, 1221: 2, 1222: 2, 1671: 6, 1672: 6, 1673: 6, 1674: 6, 1675: 6, 1676: 6, 1677: 6, 1678: 6, 1679: 6, 1680: 6, 1681: 6, 1682: 6, 1707: 7, 1708: 7, 1709: 7, 1710: 7, 1711: 7, 1712: 7, 1713: 7, 1714: 7, 1715: 7, 1716: 7, 1717: 7, 1718: 7, 1719: 7, 1720: 7, 1721: 7, 1722: 7, 1723: 7, 1724: 7, 1725: 7, 1726: 7, 1727: 7, 1728: 7, 1729: 7, 1730: 7, 1731: 7, 1732: 7, 1738: 7, 1739: 7, 1740: 7, 2468: 28, 2512: 29, 2513: 29, 2514: 29, 2515: 29, 2516: 29, 2517: 29, 2518: 29, 2519: 29, 2520: 29, 2524: 29, 2525: 29, 2526: 29, 2527: 29, 2528: 29, 2529: 29, 2530: 29, 2531: 29, 2532: 29, 2533: 29, 2534: 29, 2535: 29, 2536: 29, 2537: 29, 2831: 38, 2839: 39, 2840: 39, 2841: 39, 2842: 39, 2843: 39}\n",
      "Number_bases_in_sphere: 142\n"
     ]
    }
   ],
   "source": [
    "bases_in_sphere, base_to_strand_mapping = find_bases_in_sphere(dna, P, sphere_radius)\n",
    "print('bases_in_sphere:', bases_in_sphere)\n",
    "print('base_to_strand_mapping:', base_to_strand_mapping)\n",
    "print('Number_bases_in_sphere:', len(bases_in_sphere))"
   ]
  },
  {
   "cell_type": "code",
   "execution_count": 16,
   "metadata": {},
   "outputs": [],
   "source": [
    "def remove_strands_in_sphere(dna, P, sphere_radius):\n",
    "    \n",
    "    bases_in_sphere, base_to_strand_mapping = find_bases_in_sphere(dna, P, sphere_radius)\n",
    "    longest_strand, longest_strand_index = find_longest_strand(dna)\n",
    "    \n",
    "    print(bases_in_sphere)\n",
    "    print(base_to_strand_mapping)\n",
    "    print(longest_strand)\n",
    "    print(longest_strand_index)\n",
    "    \n",
    "    strands_to_remove = set(base_to_strand_mapping.values()) - {longest_strand_index}\n",
    "    print(strands_to_remove)\n",
    "    \n",
    "    dna_structures = []\n",
    "    \n",
    "    for strand_index in strands_to_remove:\n",
    "        strand_list = []\n",
    "        \n",
    "        for idx, strand in enumerate(dna.strands):\n",
    "            if idx != strand_index:\n",
    "                strand_list.append(strand)\n",
    "        \n",
    "        new_dna_structure = DNAStructure(strand_list, dna.time, dna.box, dna.energy)\n",
    "        \n",
    "        dna_structures.append(new_dna_structure)\n",
    "        export_path = '/home/ava/Dropbox (ASU)/temp/Metabackbone/structure_files/six_helix_oxdna_file/Automatically_removed_staples/1512_bp'\n",
    "        \n",
    "        # Generate paths for exporting the new structure\n",
    "        dat_path = os.path.join(export_path, '1512_bp_rmv_stpls.dat')\n",
    "        top_path = os.path.join(export_path, '1512_bp_rmv_stpls.top')\n",
    "        \n",
    "        # Export the topology and configuration files\n",
    "        new_dna_structure.export_top_conf(Path(top_path), Path(dat_path))\n",
    "    \n",
    "    return dna_structures"
   ]
  },
  {
   "cell_type": "code",
   "execution_count": 17,
   "metadata": {},
   "outputs": [
    {
     "name": "stdout",
     "output_type": "stream",
     "text": [
      "[609, 610, 611, 612, 613, 614, 615, 616, 715, 716, 717, 718, 719, 720, 721, 722, 723, 724, 725, 726, 727, 851, 852, 853, 854, 855, 856, 857, 858, 859, 860, 861, 862, 863, 864, 974, 975, 976, 977, 978, 979, 980, 981, 982, 1116, 1117, 1118, 1119, 1120, 1121, 1122, 1123, 1124, 1125, 1126, 1127, 1128, 1209, 1210, 1211, 1212, 1213, 1214, 1215, 1216, 1217, 1218, 1219, 1220, 1221, 1222, 1671, 1672, 1673, 1674, 1675, 1676, 1677, 1678, 1679, 1680, 1681, 1682, 1707, 1708, 1709, 1710, 1711, 1712, 1713, 1714, 1715, 1716, 1717, 1718, 1719, 1720, 1721, 1722, 1723, 1724, 1725, 1726, 1727, 1728, 1729, 1730, 1731, 1732, 1738, 1739, 1740, 2468, 2512, 2513, 2514, 2515, 2516, 2517, 2518, 2519, 2520, 2524, 2525, 2526, 2527, 2528, 2529, 2530, 2531, 2532, 2533, 2534, 2535, 2536, 2537, 2831, 2839, 2840, 2841, 2842, 2843]\n",
      "{609: 2, 610: 2, 611: 2, 612: 2, 613: 2, 614: 2, 615: 2, 616: 2, 715: 2, 716: 2, 717: 2, 718: 2, 719: 2, 720: 2, 721: 2, 722: 2, 723: 2, 724: 2, 725: 2, 726: 2, 727: 2, 851: 2, 852: 2, 853: 2, 854: 2, 855: 2, 856: 2, 857: 2, 858: 2, 859: 2, 860: 2, 861: 2, 862: 2, 863: 2, 864: 2, 974: 2, 975: 2, 976: 2, 977: 2, 978: 2, 979: 2, 980: 2, 981: 2, 982: 2, 1116: 2, 1117: 2, 1118: 2, 1119: 2, 1120: 2, 1121: 2, 1122: 2, 1123: 2, 1124: 2, 1125: 2, 1126: 2, 1127: 2, 1128: 2, 1209: 2, 1210: 2, 1211: 2, 1212: 2, 1213: 2, 1214: 2, 1215: 2, 1216: 2, 1217: 2, 1218: 2, 1219: 2, 1220: 2, 1221: 2, 1222: 2, 1671: 6, 1672: 6, 1673: 6, 1674: 6, 1675: 6, 1676: 6, 1677: 6, 1678: 6, 1679: 6, 1680: 6, 1681: 6, 1682: 6, 1707: 7, 1708: 7, 1709: 7, 1710: 7, 1711: 7, 1712: 7, 1713: 7, 1714: 7, 1715: 7, 1716: 7, 1717: 7, 1718: 7, 1719: 7, 1720: 7, 1721: 7, 1722: 7, 1723: 7, 1724: 7, 1725: 7, 1726: 7, 1727: 7, 1728: 7, 1729: 7, 1730: 7, 1731: 7, 1732: 7, 1738: 7, 1739: 7, 1740: 7, 2468: 28, 2512: 29, 2513: 29, 2514: 29, 2515: 29, 2516: 29, 2517: 29, 2518: 29, 2519: 29, 2520: 29, 2524: 29, 2525: 29, 2526: 29, 2527: 29, 2528: 29, 2529: 29, 2530: 29, 2531: 29, 2532: 29, 2533: 29, 2534: 29, 2535: 29, 2536: 29, 2537: 29, 2831: 38, 2839: 39, 2840: 39, 2841: 39, 2842: 39, 2843: 39}\n",
      "<ipy_oxdna.dna_structure.DNAStructureStrand object at 0x737d08a7f690>\n",
      "2\n",
      "{38, 39, 6, 7, 28, 29}\n",
      "[<ipy_oxdna.dna_structure.DNAStructure object at 0x737d9ee74550>, <ipy_oxdna.dna_structure.DNAStructure object at 0x737d9ee6df90>, <ipy_oxdna.dna_structure.DNAStructure object at 0x737d9ee7b690>, <ipy_oxdna.dna_structure.DNAStructure object at 0x737d09082090>, <ipy_oxdna.dna_structure.DNAStructure object at 0x737d08b0e7d0>, <ipy_oxdna.dna_structure.DNAStructure object at 0x737d08b00410>]\n",
      "6\n"
     ]
    }
   ],
   "source": [
    "new_dna_structures = remove_strands_in_sphere(dna, P, sphere_radius)\n",
    "print(new_dna_structures)\n",
    "print(len(new_dna_structures))"
   ]
  },
  {
   "cell_type": "code",
   "execution_count": 18,
   "metadata": {},
   "outputs": [
    {
     "name": "stdout",
     "output_type": "stream",
     "text": [
      "[609, 610, 611, 612, 613, 614, 615, 616, 715, 716, 717, 718, 719, 720, 721, 722, 723, 724, 725, 726, 727, 851, 852, 853, 854, 855, 856, 857, 858, 859, 860, 861, 862, 863, 864, 974, 975, 976, 977, 978, 979, 980, 981, 982, 1116, 1117, 1118, 1119, 1120, 1121, 1122, 1123, 1124, 1125, 1126, 1127, 1128, 1209, 1210, 1211, 1212, 1213, 1214, 1215, 1216, 1217, 1218, 1219, 1220, 1221, 1222, 1671, 1672, 1673, 1674, 1675, 1676, 1677, 1678, 1679, 1680, 1681, 1682, 1707, 1708, 1709, 1710, 1711, 1712, 1713, 1714, 1715, 1716, 1717, 1718, 1719, 1720, 1721, 1722, 1723, 1724, 1725, 1726, 1727, 1728, 1729, 1730, 1731, 1732, 1738, 1739, 1740, 2468, 2512, 2513, 2514, 2515, 2516, 2517, 2518, 2519, 2520, 2524, 2525, 2526, 2527, 2528, 2529, 2530, 2531, 2532, 2533, 2534, 2535, 2536, 2537, 2831, 2839, 2840, 2841, 2842, 2843]\n",
      "{609: 2, 610: 2, 611: 2, 612: 2, 613: 2, 614: 2, 615: 2, 616: 2, 715: 2, 716: 2, 717: 2, 718: 2, 719: 2, 720: 2, 721: 2, 722: 2, 723: 2, 724: 2, 725: 2, 726: 2, 727: 2, 851: 2, 852: 2, 853: 2, 854: 2, 855: 2, 856: 2, 857: 2, 858: 2, 859: 2, 860: 2, 861: 2, 862: 2, 863: 2, 864: 2, 974: 2, 975: 2, 976: 2, 977: 2, 978: 2, 979: 2, 980: 2, 981: 2, 982: 2, 1116: 2, 1117: 2, 1118: 2, 1119: 2, 1120: 2, 1121: 2, 1122: 2, 1123: 2, 1124: 2, 1125: 2, 1126: 2, 1127: 2, 1128: 2, 1209: 2, 1210: 2, 1211: 2, 1212: 2, 1213: 2, 1214: 2, 1215: 2, 1216: 2, 1217: 2, 1218: 2, 1219: 2, 1220: 2, 1221: 2, 1222: 2, 1671: 6, 1672: 6, 1673: 6, 1674: 6, 1675: 6, 1676: 6, 1677: 6, 1678: 6, 1679: 6, 1680: 6, 1681: 6, 1682: 6, 1707: 7, 1708: 7, 1709: 7, 1710: 7, 1711: 7, 1712: 7, 1713: 7, 1714: 7, 1715: 7, 1716: 7, 1717: 7, 1718: 7, 1719: 7, 1720: 7, 1721: 7, 1722: 7, 1723: 7, 1724: 7, 1725: 7, 1726: 7, 1727: 7, 1728: 7, 1729: 7, 1730: 7, 1731: 7, 1732: 7, 1738: 7, 1739: 7, 1740: 7, 2468: 28, 2512: 29, 2513: 29, 2514: 29, 2515: 29, 2516: 29, 2517: 29, 2518: 29, 2519: 29, 2520: 29, 2524: 29, 2525: 29, 2526: 29, 2527: 29, 2528: 29, 2529: 29, 2530: 29, 2531: 29, 2532: 29, 2533: 29, 2534: 29, 2535: 29, 2536: 29, 2537: 29, 2831: 38, 2839: 39, 2840: 39, 2841: 39, 2842: 39, 2843: 39}\n",
      "<ipy_oxdna.dna_structure.DNAStructureStrand object at 0x737d08a7f690>\n",
      "2\n",
      "{38, 39, 6, 7, 28, 29}\n",
      "[<ipy_oxdna.dna_structure.DNAStructure object at 0x737d9c574910>, <ipy_oxdna.dna_structure.DNAStructure object at 0x737d0926c350>, <ipy_oxdna.dna_structure.DNAStructure object at 0x737d08956fd0>, <ipy_oxdna.dna_structure.DNAStructure object at 0x737d08a5a050>, <ipy_oxdna.dna_structure.DNAStructure object at 0x737d08a5a110>, <ipy_oxdna.dna_structure.DNAStructure object at 0x737d08c48f50>]\n",
      "\n",
      "6\n",
      "\n",
      "New DNA structure 1:\n",
      "3047\n",
      "\n",
      "New DNA structure 2:\n",
      "3047\n",
      "\n",
      "New DNA structure 3:\n",
      "3040\n",
      "\n",
      "New DNA structure 4:\n",
      "3026\n",
      "\n",
      "New DNA structure 5:\n",
      "3033\n",
      "\n",
      "New DNA structure 6:\n",
      "3033\n",
      "\n"
     ]
    }
   ],
   "source": [
    "# Use the function\n",
    "new_dna_structures = remove_strands_in_sphere(dna, P, sphere_radius)\n",
    "print(new_dna_structures)\n",
    "print()\n",
    "\n",
    "print(len(new_dna_structures))\n",
    "print()\n",
    "\n",
    "for i, new_dna in enumerate(new_dna_structures):\n",
    "    print(f\"New DNA structure {i+1}:\")\n",
    "    print(new_dna.get_num_bases())\n",
    "    print()"
   ]
  },
  {
   "cell_type": "code",
   "execution_count": 19,
   "metadata": {},
   "outputs": [
    {
     "name": "stdout",
     "output_type": "stream",
     "text": [
      "[{'structure_id': 0, 'dat_path': '/home/ava/Dropbox (ASU)/temp/Metabackbone/structure_files/six_helix_oxdna_file/Automatically_removed_staples/1512_bp/structure_0/1512_bp_rmv_bases.dat', 'top_path': '/home/ava/Dropbox (ASU)/temp/Metabackbone/structure_files/six_helix_oxdna_file/Automatically_removed_staples/1512_bp/structure_0/1512_bp_rmv_bases.top'}, {'structure_id': 1, 'dat_path': '/home/ava/Dropbox (ASU)/temp/Metabackbone/structure_files/six_helix_oxdna_file/Automatically_removed_staples/1512_bp/structure_1/1512_bp_rmv_bases.dat', 'top_path': '/home/ava/Dropbox (ASU)/temp/Metabackbone/structure_files/six_helix_oxdna_file/Automatically_removed_staples/1512_bp/structure_1/1512_bp_rmv_bases.top'}, {'structure_id': 2, 'dat_path': '/home/ava/Dropbox (ASU)/temp/Metabackbone/structure_files/six_helix_oxdna_file/Automatically_removed_staples/1512_bp/structure_2/1512_bp_rmv_bases.dat', 'top_path': '/home/ava/Dropbox (ASU)/temp/Metabackbone/structure_files/six_helix_oxdna_file/Automatically_removed_staples/1512_bp/structure_2/1512_bp_rmv_bases.top'}, {'structure_id': 3, 'dat_path': '/home/ava/Dropbox (ASU)/temp/Metabackbone/structure_files/six_helix_oxdna_file/Automatically_removed_staples/1512_bp/structure_3/1512_bp_rmv_bases.dat', 'top_path': '/home/ava/Dropbox (ASU)/temp/Metabackbone/structure_files/six_helix_oxdna_file/Automatically_removed_staples/1512_bp/structure_3/1512_bp_rmv_bases.top'}, {'structure_id': 4, 'dat_path': '/home/ava/Dropbox (ASU)/temp/Metabackbone/structure_files/six_helix_oxdna_file/Automatically_removed_staples/1512_bp/structure_4/1512_bp_rmv_bases.dat', 'top_path': '/home/ava/Dropbox (ASU)/temp/Metabackbone/structure_files/six_helix_oxdna_file/Automatically_removed_staples/1512_bp/structure_4/1512_bp_rmv_bases.top'}, {'structure_id': 5, 'dat_path': '/home/ava/Dropbox (ASU)/temp/Metabackbone/structure_files/six_helix_oxdna_file/Automatically_removed_staples/1512_bp/structure_5/1512_bp_rmv_bases.dat', 'top_path': '/home/ava/Dropbox (ASU)/temp/Metabackbone/structure_files/six_helix_oxdna_file/Automatically_removed_staples/1512_bp/structure_5/1512_bp_rmv_bases.top'}]\n"
     ]
    }
   ],
   "source": [
    "import os\n",
    "from pathlib import Path\n",
    "\n",
    "# Define the base path for export\n",
    "base_path = '/home/ava/Dropbox (ASU)/temp/Metabackbone/structure_files/six_helix_oxdna_file/Automatically_removed_staples/1512_bp'\n",
    "\n",
    "# Initialize a list to collect the output paths\n",
    "output_paths = []\n",
    "\n",
    "# Iterate over the new DNA structures and generate unique paths for each\n",
    "for i, new_dna in enumerate(new_dna_structures):\n",
    "    structure_id = i  # Unique identifier for each structure\n",
    "    \n",
    "    # Create a unique subdirectory for each new structure\n",
    "    unique_subdir = os.path.join(base_path, f'structure_{structure_id}')\n",
    "    os.makedirs(unique_subdir, exist_ok=True)\n",
    "    \n",
    "    # Generate paths for the .dat and .top files\n",
    "    dat_path = os.path.join(unique_subdir, '1512_bp_rmv_bases.dat')\n",
    "    top_path = os.path.join(unique_subdir, '1512_bp_rmv_bases.top')\n",
    "    \n",
    "    # Export the new DNA structure to the unique path\n",
    "    new_dna.export_top_conf(Path(top_path), Path(dat_path))\n",
    "    \n",
    "    # Collect the output paths\n",
    "    output_paths.append({\n",
    "        'structure_id': structure_id,\n",
    "        'dat_path': dat_path,\n",
    "        'top_path': top_path\n",
    "    })\n",
    "\n",
    "# Print the collected output paths for verification\n",
    "print(output_paths)\n"
   ]
  },
  {
   "cell_type": "code",
   "execution_count": 20,
   "metadata": {},
   "outputs": [],
   "source": [
    "# Define paths and parameters\n",
    "base_path = '/home/ava/Dropbox (ASU)/temp/Metabackbone/structure_files/six_helix_oxdna_file/Automatically_removed_staples/1512_bp'\n",
    "sim_base_path = '/home/ava/Dropbox (ASU)/temp/Metabackbone/metabackbone/notebooks/Simulations/simulations/Automatically_rmvd_staples/1512_bp'\n",
    "eq_steps = 1e7\n",
    "prod_steps = 1e9\n",
    "rel_steps = 1e5\n",
    "\n",
    "eq_parameters = {\n",
    "    'dt': '0.003', 'steps': f'{eq_steps}', 'print_energy_every': '1e5',\n",
    "    'interaction_type': 'DNA2', 'print_conf_interval': '1e5', 'fix_diffusion': 'false',\n",
    "    'T': '20C', 'max_density_multiplier': '50'\n",
    "}\n",
    "\n",
    "prod_parameters = {\n",
    "    'dt': '0.003', 'steps': f'{prod_steps}', 'print_energy_every': '1e5',\n",
    "    'interaction_type': 'DNA2', 'print_conf_interval': '1e5', 'fix_diffusion': 'false',\n",
    "    'T': '20C', 'max_density_multiplier': '50'\n",
    "}\n",
    "\n",
    "rel_parameters = {'steps': f'{rel_steps}'}\n",
    "\n",
    "simulation_manager = SimulationManager()\n",
    "sim_list_rel = []\n",
    "\n",
    "# Create simulation paths and add to list\n",
    "for i, new_dna in enumerate(new_dna_structures):\n",
    "    structure_id = i\n",
    "    file_dir = os.path.join(base_path, f'structure_{structure_id}')\n",
    "    sim_path = os.path.join(sim_base_path, f'1512_bp_{structure_id}')\n",
    "    rel_dir = os.path.join(sim_path, 'relaxed')\n",
    "    sim_list_rel.append(Simulation(file_dir, rel_dir))\n",
    "    \n",
    "for sim in sim_list_rel:\n",
    "    \n",
    "    sim.build(clean_build='force')\n",
    "    sim.input.swap_default_input(\"cpu_MC_relax\")\n",
    "    sim.input_file(rel_parameters)\n",
    "    simulation_manager.queue_sim(sim)\n",
    "\n",
    "\n",
    "simulation_manager = SimulationManager()\n",
    "sim_list_eq = []    \n",
    "# Create simulation paths and add to list\n",
    "for i, new_dna in enumerate(new_dna_structures):\n",
    "    structure_id = i\n",
    "    file_dir = os.path.join(base_path, f'structure_{structure_id}')\n",
    "    sim_path = os.path.join(sim_base_path, f'1512_bp_{structure_id}')\n",
    "    eq_dir = os.path.join(sim_path, 'eq')\n",
    "    sim_list_eq.append(Simulation(file_dir, eq_dir))\n",
    "\n",
    "for sim in sim_list_eq:\n",
    "    sim.build(clean_build='force')\n",
    "    sim.input.swap_default_input(\"cpu_MC_relax\")\n",
    "    sim.input_file(eq_parameters)\n",
    "    simulation_manager.queue_sim(sim)\n",
    "    \n",
    "simulation_manager = SimulationManager()\n",
    "sim_list_prod = []    \n",
    "# Create simulation paths and add to list\n",
    "for i, new_dna in enumerate(new_dna_structures):\n",
    "    structure_id = i\n",
    "    file_dir = os.path.join(base_path, f'structure_{structure_id}')\n",
    "    sim_path = os.path.join(sim_base_path, f'1512_bp_{structure_id}')\n",
    "    prod_dir = os.path.join(sim_path, 'prod')\n",
    "    sim_list_prod.append(Simulation(file_dir, prod_dir))\n",
    "\n",
    "for sim in sim_list_prod:\n",
    "    sim.build(clean_build='force')\n",
    "    sim.input.swap_default_input(\"cpu_MC_relax\")\n",
    "    sim.input_file(prod_parameters)\n",
    "    simulation_manager.queue_sim(sim)\n",
    "\n",
    "\n"
   ]
  },
  {
   "cell_type": "code",
   "execution_count": 21,
   "metadata": {},
   "outputs": [
    {
     "name": "stdout",
     "output_type": "stream",
     "text": [
      "spawning\n"
     ]
    }
   ],
   "source": [
    "simulation_manager.run(gpu_mem_block= False)"
   ]
  },
  {
   "cell_type": "code",
   "execution_count": 22,
   "metadata": {},
   "outputs": [
    {
     "name": "stdout",
     "output_type": "stream",
     "text": [
      "Running: prod\n",
      "Running: prod\n",
      "Running: prod\n",
      "Running: prod\n",
      "Running: prod\n",
      "Running: prod\n"
     ]
    },
    {
     "name": "stdout",
     "output_type": "stream",
     "text": [
      "/home/ava/Dropbox (ASU)/temp/Metabackbone/metabackbone/notebooks/Simulations/simulations/Automatically_rmvd_staples/1512_bp/1512_bp_0/relaxed: No energy file avalible\n",
      "/home/ava/Dropbox (ASU)/temp/Metabackbone/metabackbone/notebooks/Simulations/simulations/Automatically_rmvd_staples/1512_bp/1512_bp_1/relaxed: No energy file avalible\n",
      "/home/ava/Dropbox (ASU)/temp/Metabackbone/metabackbone/notebooks/Simulations/simulations/Automatically_rmvd_staples/1512_bp/1512_bp_2/relaxed: No energy file avalible\n",
      "/home/ava/Dropbox (ASU)/temp/Metabackbone/metabackbone/notebooks/Simulations/simulations/Automatically_rmvd_staples/1512_bp/1512_bp_3/relaxed: No energy file avalible\n",
      "/home/ava/Dropbox (ASU)/temp/Metabackbone/metabackbone/notebooks/Simulations/simulations/Automatically_rmvd_staples/1512_bp/1512_bp_4/relaxed: No energy file avalible\n",
      "/home/ava/Dropbox (ASU)/temp/Metabackbone/metabackbone/notebooks/Simulations/simulations/Automatically_rmvd_staples/1512_bp/1512_bp_5/relaxed: No energy file avalible\n"
     ]
    }
   ],
   "source": [
    "for sim in sim_list_rel:\n",
    "    sim.analysis.plot_energy()"
   ]
  },
  {
   "cell_type": "code",
   "execution_count": 23,
   "metadata": {},
   "outputs": [
    {
     "name": "stdout",
     "output_type": "stream",
     "text": [
      "/home/ava/Dropbox (ASU)/temp/Metabackbone/metabackbone/notebooks/Simulations/simulations/Automatically_rmvd_staples/1512_bp/1512_bp_0/eq: No energy file avalible\n",
      "/home/ava/Dropbox (ASU)/temp/Metabackbone/metabackbone/notebooks/Simulations/simulations/Automatically_rmvd_staples/1512_bp/1512_bp_1/eq: No energy file avalible\n",
      "/home/ava/Dropbox (ASU)/temp/Metabackbone/metabackbone/notebooks/Simulations/simulations/Automatically_rmvd_staples/1512_bp/1512_bp_2/eq: No energy file avalible\n",
      "/home/ava/Dropbox (ASU)/temp/Metabackbone/metabackbone/notebooks/Simulations/simulations/Automatically_rmvd_staples/1512_bp/1512_bp_3/eq: No energy file avalible\n",
      "/home/ava/Dropbox (ASU)/temp/Metabackbone/metabackbone/notebooks/Simulations/simulations/Automatically_rmvd_staples/1512_bp/1512_bp_4/eq: No energy file avalible\n",
      "/home/ava/Dropbox (ASU)/temp/Metabackbone/metabackbone/notebooks/Simulations/simulations/Automatically_rmvd_staples/1512_bp/1512_bp_5/eq: No energy file avalible\n"
     ]
    }
   ],
   "source": [
    "for sim in sim_list_eq:\n",
    "    sim.analysis.plot_energy()"
   ]
  },
  {
   "cell_type": "code",
   "execution_count": 24,
   "metadata": {},
   "outputs": [
    {
     "name": "stdout",
     "output_type": "stream",
     "text": [
      "/home/ava/Dropbox (ASU)/temp/Metabackbone/metabackbone/notebooks/Simulations/simulations/Automatically_rmvd_staples/1512_bp/1512_bp_2/prod: No energy file avalible\n",
      "/home/ava/Dropbox (ASU)/temp/Metabackbone/metabackbone/notebooks/Simulations/simulations/Automatically_rmvd_staples/1512_bp/1512_bp_3/prod: No energy file avalible\n",
      "/home/ava/Dropbox (ASU)/temp/Metabackbone/metabackbone/notebooks/Simulations/simulations/Automatically_rmvd_staples/1512_bp/1512_bp_4/prod: No energy file avalible\n",
      "/home/ava/Dropbox (ASU)/temp/Metabackbone/metabackbone/notebooks/Simulations/simulations/Automatically_rmvd_staples/1512_bp/1512_bp_5/prod: No energy file avalible\n"
     ]
    },
    {
     "data": {
      "image/png": "[encoded data removed]",
      "text/plain": [
       "<Figure size 1500x300 with 1 Axes>"
      ]
     },
     "metadata": {},
     "output_type": "display_data"
    },
    {
     "data": {
      "image/png": "[encoded data removed]",
      "text/plain": [
       "<Figure size 1500x300 with 1 Axes>"
      ]
     },
     "metadata": {},
     "output_type": "display_data"
    }
   ],
   "source": [
    "for sim in sim_list_prod:\n",
    "    sim.analysis.plot_energy()"
   ]
  },
  {
   "cell_type": "code",
   "execution_count": 25,
   "metadata": {},
   "outputs": [
    {
     "name": "stdout",
     "output_type": "stream",
     "text": [
      "Measured angle: 174.40914949950633\n",
      "Measured angle: 174.40914949950633\n",
      "Measured angle: 174.40914949950633\n",
      "Measured angle: 174.40914949950633\n",
      "Measured angle: 174.40914949950633\n",
      "Measured angle: 174.40914949950633\n",
      "All measured angles: [174.40914949950633, 174.40914949950633, 174.40914949950633, 174.40914949950633, 174.40914949950633, 174.40914949950633]\n"
     ]
    }
   ],
   "source": [
    "# Calculate angle between vectors\n",
    "def calculate_angle_between_vectors(v1, v2):\n",
    "    cos_theta = np.dot(v1, v2) / (np.linalg.norm(v1) * np.linalg.norm(v2))\n",
    "    angle_rad = np.arccos(cos_theta)\n",
    "    angle_deg = np.degrees(angle_rad)\n",
    "    return angle_deg\n",
    "\n",
    "# Measure the joint angle\n",
    "def measure_joint_angle(new_dna, P, distance_from_P=5.0):\n",
    "    left_pos = [base.pos for strand in new_dna.strands for base in strand if base.uid in left_indices]\n",
    "    right_pos = [base.pos for strand in new_dna.strands for base in strand if base.uid in right_indices]\n",
    "\n",
    "    if not left_pos or not right_pos:\n",
    "        raise ValueError(\"Left or right positions not found.\")\n",
    "    \n",
    "    point_left = min(left_pos, key=lambda pos: np.linalg.norm(pos - P) > distance_from_P)\n",
    "    point_right = min(right_pos, key=lambda pos: np.linalg.norm(pos - P) > distance_from_P)\n",
    "\n",
    "    v1 = point_left - P\n",
    "    v2 = point_right - P\n",
    "\n",
    "    angle = calculate_angle_between_vectors(v1, v2)\n",
    "    return angle\n",
    "\n",
    "# Measure angles for all new structures\n",
    "angles = []\n",
    "\n",
    "for new_dna_structure in new_dna_structures:\n",
    "    angle = measure_joint_angle(new_dna_structure, P)\n",
    "    angles.append(angle)\n",
    "    print(f\"Measured angle: {angle}\")\n",
    "\n",
    "print(\"All measured angles:\", angles)\n"
   ]
  },
  {
   "cell_type": "code",
   "execution_count": null,
   "metadata": {},
   "outputs": [],
   "source": []
  }
 ],
 "metadata": {
  "kernelspec": {
   "display_name": "pypatchy",
   "language": "python",
   "name": "python3"
  },
  "language_info": {
   "codemirror_mode": {
    "name": "ipython",
    "version": 3
   },
   "file_extension": ".py",
   "mimetype": "text/x-python",
   "name": "python",
   "nbconvert_exporter": "python",
   "pygments_lexer": "ipython3",
   "version": "3.11.8"
  }
 },
 "nbformat": 4,
 "nbformat_minor": 2
}
