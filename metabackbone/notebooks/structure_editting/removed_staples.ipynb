{
 "cells": [
  {
   "cell_type": "code",
   "execution_count": null,
   "metadata": {},
   "outputs": [],
   "source": [
    "\n",
    "from itertools import combinations\n",
    "import numpy as np\n",
    "from oxDNA_analysis_tools.UTILS.oxview import oxdna_conf, from_path\n",
    "from oxDNA_analysis_tools.UTILS.RyeReader import describe, get_confs, inbox\n",
    "from pathlib import Path\n",
    "import os\n",
    "from ipy_oxdna.dna_structure import DNAStructure, DNAStructureStrand, load_dna_structure, DNABase, strand_from_info\n",
    "from copy import deepcopy\n",
    "from ipy_oxdna.oxdna_simulation import Simulation \n",
    "import copy\n",
    "from tqdm.auto import tqdm"
   ]
  },
  {
   "cell_type": "code",
   "execution_count": null,
   "metadata": {},
   "outputs": [],
   "source": [
    "path_struct = Path('/home/ava/Dropbox (ASU)/Metabackbone/structure_files/six_helix_oxdna_file/unmodified/1512_bp')\n",
    "print (path_struct)\n",
    "\n",
    "dat_path = path_struct /\"1512_bp.dat\"\n",
    "top_path = path_struct /\"1512_bp.top\"\n",
    "print(top_path.is_file())\n",
    "print (dat_path.is_file())\n",
    "print(dat_path)\n",
    "print(top_path)"
   ]
  },
  {
   "cell_type": "code",
   "execution_count": null,
   "metadata": {},
   "outputs": [],
   "source": [
    "# downloading the structure and making a copy of that\n",
    "\n",
    "dna = load_dna_structure(top_path, dat_path)      # dna is an instance of DNAstructure object\n",
    "dna_rmvd_staples = deepcopy(dna)                  # dna_rmvd_staples is an instance of DNAstructure object\n",
    "dna\n"
   ]
  },
  {
   "cell_type": "code",
   "execution_count": null,
   "metadata": {},
   "outputs": [],
   "source": [
    "# part of the code which remove staples from the original structure\n",
    "\n",
    "indxs_oxview = [2049,2050,2051,2052,2053,2054,2055,2056,2057,2058,2059,2060,2061,2062,2063,2064,2065,2066,2067,2068,2069,2070,2071,2072,2073,2074,2075,2076,2077,2078,2079,2080,2081,2082,2083,2084,2085,2086,2087,2088,2089,2090,2021,2022,2023,2024,2025,2026,2027,2028,2029,2030,2031,2032,2033,2034,2035,2036,2037,2038,2039,2040,2041,2042,2043,2044,2045,2046,2047,2048,2923,2924,2925,2926,2927,2928,2929,2930,2931,2932,2933,2934,2935,2936,2937,2938,2939,2940,2941,2942,2943,2001,2002,2003,2004,2005,2006,2007,2008,2009,2010,2011,2012,2013,2014,2015,2016,2017,2018,2019,2020,2643,2644,2645,2646,2647,2648,2649,2650,2651,2652,2653,2654,2655,2656,2657,2658,2659,2660,2661,2662,2663,2664,2665,2666,2667,2668,2669,2670,2671,2672,2673,2674,2675,2676,2677,2678,2679,2680,2681,2682,2683,2684,2685,2686,2687,2688,2689,2690,2691,2692,2693,2694,2695,2696,2697,2698,2699,2700,2701,2702,2703,2704,2705,2706,2707,2708,2709,2710,2711,2712]\n",
    "strand_list =[]\n",
    "for strand in dna_rmvd_staples.strands:\n",
    "\n",
    "    bases_in_strand = [] \n",
    "\n",
    "    for base in strand:\n",
    "        if base.uid not in indxs_oxview:\n",
    "            base_info = (base.base, base.pos, base.a1, base.a3)\n",
    "            bases_in_strand.append(base_info)\n",
    "            # print(base.uid)\n",
    "    # print(bases_in_strand)\n",
    "    if len(bases_in_strand)>0:\n",
    "\n",
    "        new_strands = strand_from_info(bases_in_strand)        \n",
    "        strand_list.append(new_strands)\n",
    "        \n",
    "new_dna_structure = DNAStructure(strand_list, dna_rmvd_staples.time, dna_rmvd_staples.box, dna_rmvd_staples.energy)\n",
    "print(new_dna_structure.get_num_bases())\n",
    "print(dna_rmvd_staples.get_num_bases())\n"
   ]
  },
  {
   "cell_type": "code",
   "execution_count": null,
   "metadata": {},
   "outputs": [],
   "source": [
    "dat_path = path_struct /\"1215_bp_new.dat\"\n",
    "top_path = path_struct /\"1215_bp_new.top\"\n",
    "new_dna_structure.export_top_conf(top_path, dat_path)\n",
    "print(dat_path)\n",
    "print(top_path)"
   ]
  }
 ],
 "metadata": {
  "kernelspec": {
   "display_name": "pypatchy",
   "language": "python",
   "name": "python3"
  },
  "language_info": {
   "codemirror_mode": {
    "name": "ipython",
    "version": 3
   },
   "file_extension": ".py",
   "mimetype": "text/x-python",
   "name": "python",
   "nbconvert_exporter": "python",
   "pygments_lexer": "ipython3",
   "version": "3.11.8"
  }
 },
 "nbformat": 4,
 "nbformat_minor": 2
}
