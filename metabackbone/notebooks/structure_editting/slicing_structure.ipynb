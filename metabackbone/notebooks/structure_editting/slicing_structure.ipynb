{
 "cells": [
  {
   "cell_type": "code",
   "execution_count": 1,
   "metadata": {},
   "outputs": [],
   "source": [
    "from itertools import combinations\n",
    "import numpy as np\n",
    "from oxDNA_analysis_tools.UTILS.oxview import oxdna_conf, from_path\n",
    "from oxDNA_analysis_tools.UTILS.RyeReader import describe, get_confs, inbox\n",
    "from pathlib import Path\n",
    "import os\n",
    "from ipy_oxdna.dna_structure import DNAStructure, DNAStructureStrand, load_dna_structure, DNABase, strand_from_info\n",
    "from copy import deepcopy\n",
    "from ipy_oxdna.oxdna_simulation import Simulation \n",
    "import copy"
   ]
  },
  {
   "cell_type": "code",
   "execution_count": 2,
   "metadata": {},
   "outputs": [],
   "source": [
    "path_struct = Path('/home/ava/Dropbox (ASU)/Metabackbone/structure_files/six_helix_oxdna_file/unmodified/1512_bp')\n",
    "\n",
    "dat_path = path_struct /\"1512_bp.dat\"\n",
    "top_path = path_struct /\"1512_bp.top\""
   ]
  },
  {
   "cell_type": "code",
   "execution_count": 3,
   "metadata": {},
   "outputs": [
    {
     "name": "stderr",
     "output_type": "stream",
     "text": [
      "INFO: processed 0 / 1 confs\r"
     ]
    }
   ],
   "source": [
    "# downloading the structure and making a copy of that\n",
    "\n",
    "\n",
    "dna = load_dna_structure(top_path, dat_path)\n",
    "dna_slcd = deepcopy(dna)\n",
    "\n",
    "# dna_slcd.strands\n",
    "# dir(dna.strands[0]) "
   ]
  },
  {
   "cell_type": "code",
   "execution_count": 4,
   "metadata": {},
   "outputs": [],
   "source": [
    "indxs_oxview = [45,46,47,48,49,50,51,52,53,54,55,56,57,58,59,60,61,62,63,64,65,66,67,68,69,70,71,72,73,249,250,251,252,253,254,255,256,257,258,259,260,261,262,263,264,265,266,267,268,269,270,271,272,273,274,275,276,277,278,291,292,293,294,295,296,297,298,299,300,301,302,303,304,305,306,307,308,309,310,311,312,313,314,315,316,317,318,319,320,321,509,510,511,512,513,514,515,516,517,518,519,520,521,522,523,524,525,526,527,528,529,530,531,532,533,534,535,536,537,538,1291,1292,1293,1294,1295,1296,1297,1298,1299,1300,1301,1302,1303,1304,1305,1306,1307,1308,1309,1310,1311,1312,1313,1314,1315,1316,1317,1318,1319,1320,1524,1525,1526,1527,1528,1529,1530,1531,1532,1533,1534,1535,1536,1537,1538,1539,1540,1541,1542,1543,1544,1545,1546,1547,1548,1549,1550,1551,1552,1951,1952,1953,1954,1955,1956,1957,1958,1959,1960,1961,1962,1963,1964,1965,1966,1967,1976,1977,1978,1983,1984,1985,1986,1987,1988,1989,1990,1991,1992,1993,1994,1995,1996,1997,1998,1999,2000,2001,2002,2003,2004,2005,2006,2007,2008,2009,2010,2011,2012,2013,2014,2015,2016,2017,2018,2019,2020,2021,2022,2023,2024,2025,2029,2030,2031,2032,2033,2034,2035,2036,2037,2038,2039,2040,2041,2042,2043,2044,2045,2046,2047,2048,2049,2050,2051,2052,2053,2054,2055,2056,2057,2058,2059,2060,2061,2064,2065,2066,2067,2068,2069,2070,2071,2072,2073,2074,2075,2076,2608,2609,2610,2643,2644,2645,2646,2647,2648,2649,2650,2651,2652,2653,2654,2655,2656,2657,2658,2659,2660,2661,2662,2663,2664,2665,2666,2667,2668,2669,2670,2671,2672,2673,2674,2675,2676,2677,2708,2709,2710,2711,2712,2913,2914,2915,2916,2917,2918,2923,2924,2925,2926,2927,2928,2929,2930,2931,2932,2933,2934,2935,2936,2937,2938,2939,2940,2941,2942,2943]\n",
    "strand_list =[]\n",
    "for strand in dna_slcd.strands:\n",
    "    bases_in_strand = [] \n",
    "\n",
    "    for base in strand:\n",
    "        if base.uid in indxs_oxview:\n",
    "            base_info = (base.base, base.pos, base.a1, base.a3)\n",
    "            bases_in_strand.append(base_info)\n",
    "        # print(base.uid)\n",
    "    # print(bases_in_strand)\n",
    "    if len(bases_in_strand)>0:\n",
    "\n",
    "        new_strands = strand_from_info(bases_in_strand)        \n",
    "        strand_list.append(new_strands)\n",
    "        \n",
    "new_dna_structure = DNAStructure(strand_list, dna_slcd.time, dna_slcd.box, dna_slcd.energy)"
   ]
  },
  {
   "cell_type": "code",
   "execution_count": 5,
   "metadata": {},
   "outputs": [],
   "source": [
    "dat_path = path_struct /\"1512_bp_mod.dat\"\n",
    "top_path = path_struct /\"1512_bp_mod.top\"\n",
    "new_dna_structure.export_top_conf(top_path, dat_path)"
   ]
  },
  {
   "cell_type": "code",
   "execution_count": 6,
   "metadata": {},
   "outputs": [],
   "source": [
    "# def get_strand_pos (strands):\n",
    "#     strand_pos = {}\n",
    "#     for i in range(0, new_dna_structure.get_num_strands()):\n",
    "#         for  strand in strands:\n",
    "#             ids = [base.uid for base in strand.bases]\n",
    "#             strand_pos[strand[i]] = (min(ids), max(ids))\n",
    "#     return strand_pos\n"
   ]
  },
  {
   "cell_type": "code",
   "execution_count": 7,
   "metadata": {},
   "outputs": [],
   "source": [
    "def get_strand_pos(strands):\n",
    "    strand_pos = {}\n",
    "    for strand in strands:\n",
    "        assert all([isinstance(base, DNABase) for base in strand])\n",
    "        ids = [base.uid for base in strand]\n",
    "        strand_pos[strand] = (min(ids), max(ids))\n",
    "    return strand_pos\n"
   ]
  },
  {
   "cell_type": "code",
   "execution_count": 8,
   "metadata": {},
   "outputs": [],
   "source": [
    "# new_dna_structure.get_num_strands()\n",
    "# dna_slcd.strands\n",
    "# new_dna_structure.strands"
   ]
  },
  {
   "cell_type": "code",
   "execution_count": 9,
   "metadata": {},
   "outputs": [
    {
     "name": "stdout",
     "output_type": "stream",
     "text": [
      "{<ipy_oxdna.dna_structure.DNAStructureStrand object at 0x7c172c252cd0>: (0, 19), <ipy_oxdna.dna_structure.DNAStructureStrand object at 0x7c1697912ad0>: (20, 42), <ipy_oxdna.dna_structure.DNAStructureStrand object at 0x7c1697746fd0>: (43, 1554), <ipy_oxdna.dna_structure.DNAStructureStrand object at 0x7c1697af2f50>: (1555, 1593), <ipy_oxdna.dna_structure.DNAStructureStrand object at 0x7c1697909690>: (1594, 1621), <ipy_oxdna.dna_structure.DNAStructureStrand object at 0x7c16979035d0>: (1622, 1670), <ipy_oxdna.dna_structure.DNAStructureStrand object at 0x7c1697875ed0>: (1671, 1698), <ipy_oxdna.dna_structure.DNAStructureStrand object at 0x7c16977dbb10>: (1699, 1740), <ipy_oxdna.dna_structure.DNAStructureStrand object at 0x7c16977d8110>: (1741, 1768), <ipy_oxdna.dna_structure.DNAStructureStrand object at 0x7c16977d8150>: (1769, 1810), <ipy_oxdna.dna_structure.DNAStructureStrand object at 0x7c16977d82d0>: (1811, 1838), <ipy_oxdna.dna_structure.DNAStructureStrand object at 0x7c16977d83d0>: (1839, 1880), <ipy_oxdna.dna_structure.DNAStructureStrand object at 0x7c16977d84d0>: (1881, 1908), <ipy_oxdna.dna_structure.DNAStructureStrand object at 0x7c16977d85d0>: (1909, 1950), <ipy_oxdna.dna_structure.DNAStructureStrand object at 0x7c16977d86d0>: (1951, 1978), <ipy_oxdna.dna_structure.DNAStructureStrand object at 0x7c16977d87d0>: (1979, 2020), <ipy_oxdna.dna_structure.DNAStructureStrand object at 0x7c16977d88d0>: (2021, 2048), <ipy_oxdna.dna_structure.DNAStructureStrand object at 0x7c16977d89d0>: (2049, 2090), <ipy_oxdna.dna_structure.DNAStructureStrand object at 0x7c16977d8ad0>: (2091, 2118), <ipy_oxdna.dna_structure.DNAStructureStrand object at 0x7c16977d8bd0>: (2119, 2160), <ipy_oxdna.dna_structure.DNAStructureStrand object at 0x7c16977d8cd0>: (2161, 2188), <ipy_oxdna.dna_structure.DNAStructureStrand object at 0x7c16977d8dd0>: (2189, 2230), <ipy_oxdna.dna_structure.DNAStructureStrand object at 0x7c16977d8ed0>: (2231, 2258), <ipy_oxdna.dna_structure.DNAStructureStrand object at 0x7c16977d8fd0>: (2259, 2300), <ipy_oxdna.dna_structure.DNAStructureStrand object at 0x7c16977d90d0>: (2301, 2341), <ipy_oxdna.dna_structure.DNAStructureStrand object at 0x7c16977d91d0>: (2342, 2381), <ipy_oxdna.dna_structure.DNAStructureStrand object at 0x7c16977d92d0>: (2382, 2418), <ipy_oxdna.dna_structure.DNAStructureStrand object at 0x7c16977d93d0>: (2419, 2467), <ipy_oxdna.dna_structure.DNAStructureStrand object at 0x7c16977d94d0>: (2468, 2502), <ipy_oxdna.dna_structure.DNAStructureStrand object at 0x7c16977d95d0>: (2503, 2537), <ipy_oxdna.dna_structure.DNAStructureStrand object at 0x7c16977d96d0>: (2538, 2572), <ipy_oxdna.dna_structure.DNAStructureStrand object at 0x7c16977d97d0>: (2573, 2607), <ipy_oxdna.dna_structure.DNAStructureStrand object at 0x7c16977d98d0>: (2608, 2642), <ipy_oxdna.dna_structure.DNAStructureStrand object at 0x7c16977d99d0>: (2643, 2677), <ipy_oxdna.dna_structure.DNAStructureStrand object at 0x7c16977d9ad0>: (2678, 2712), <ipy_oxdna.dna_structure.DNAStructureStrand object at 0x7c16977d9bd0>: (2713, 2747), <ipy_oxdna.dna_structure.DNAStructureStrand object at 0x7c16977d9cd0>: (2748, 2782), <ipy_oxdna.dna_structure.DNAStructureStrand object at 0x7c16977d9dd0>: (2783, 2817), <ipy_oxdna.dna_structure.DNAStructureStrand object at 0x7c16977d9ed0>: (2818, 2838), <ipy_oxdna.dna_structure.DNAStructureStrand object at 0x7c16977d9fd0>: (2839, 2859), <ipy_oxdna.dna_structure.DNAStructureStrand object at 0x7c16977da0d0>: (2860, 2880), <ipy_oxdna.dna_structure.DNAStructureStrand object at 0x7c16977da1d0>: (2881, 2901), <ipy_oxdna.dna_structure.DNAStructureStrand object at 0x7c16977da2d0>: (2902, 2922), <ipy_oxdna.dna_structure.DNAStructureStrand object at 0x7c16977da3d0>: (2923, 2943), <ipy_oxdna.dna_structure.DNAStructureStrand object at 0x7c16977da4d0>: (2944, 2964), <ipy_oxdna.dna_structure.DNAStructureStrand object at 0x7c16977da5d0>: (2965, 2985), <ipy_oxdna.dna_structure.DNAStructureStrand object at 0x7c16977da6d0>: (2986, 3006), <ipy_oxdna.dna_structure.DNAStructureStrand object at 0x7c16977da7d0>: (3007, 3027), <ipy_oxdna.dna_structure.DNAStructureStrand object at 0x7c16977da8d0>: (3028, 3067)}\n"
     ]
    }
   ],
   "source": [
    "assert all([isinstance(strand, DNAStructureStrand) for strand in dna_slcd.strands])\n",
    "dna_slcd_strand_pos = get_strand_pos(dna_slcd.strands)\n",
    "print (dna_slcd_strand_pos)\n",
    "assert all([isinstance(strand, DNAStructureStrand) for strand in new_dna_structure.strands])\n",
    "new_dna_structure_strand_pos = get_strand_pos(new_dna_structure.strands)"
   ]
  },
  {
   "cell_type": "code",
   "execution_count": 10,
   "metadata": {},
   "outputs": [
    {
     "name": "stdout",
     "output_type": "stream",
     "text": [
      "[]\n",
      "[<ipy_oxdna.dna_structure.DNAStructureStrand object at 0x7c172c252cd0>, <ipy_oxdna.dna_structure.DNAStructureStrand object at 0x7c1697912ad0>, <ipy_oxdna.dna_structure.DNAStructureStrand object at 0x7c1697746fd0>, <ipy_oxdna.dna_structure.DNAStructureStrand object at 0x7c1697af2f50>, <ipy_oxdna.dna_structure.DNAStructureStrand object at 0x7c1697909690>, <ipy_oxdna.dna_structure.DNAStructureStrand object at 0x7c16979035d0>, <ipy_oxdna.dna_structure.DNAStructureStrand object at 0x7c1697875ed0>, <ipy_oxdna.dna_structure.DNAStructureStrand object at 0x7c16977dbb10>, <ipy_oxdna.dna_structure.DNAStructureStrand object at 0x7c16977d8110>, <ipy_oxdna.dna_structure.DNAStructureStrand object at 0x7c16977d8150>, <ipy_oxdna.dna_structure.DNAStructureStrand object at 0x7c16977d82d0>, <ipy_oxdna.dna_structure.DNAStructureStrand object at 0x7c16977d83d0>, <ipy_oxdna.dna_structure.DNAStructureStrand object at 0x7c16977d84d0>, <ipy_oxdna.dna_structure.DNAStructureStrand object at 0x7c16977d85d0>, <ipy_oxdna.dna_structure.DNAStructureStrand object at 0x7c16977d86d0>, <ipy_oxdna.dna_structure.DNAStructureStrand object at 0x7c16977d87d0>, <ipy_oxdna.dna_structure.DNAStructureStrand object at 0x7c16977d88d0>, <ipy_oxdna.dna_structure.DNAStructureStrand object at 0x7c16977d89d0>, <ipy_oxdna.dna_structure.DNAStructureStrand object at 0x7c16977d8ad0>, <ipy_oxdna.dna_structure.DNAStructureStrand object at 0x7c16977d8bd0>, <ipy_oxdna.dna_structure.DNAStructureStrand object at 0x7c16977d8cd0>, <ipy_oxdna.dna_structure.DNAStructureStrand object at 0x7c16977d8dd0>, <ipy_oxdna.dna_structure.DNAStructureStrand object at 0x7c16977d8ed0>, <ipy_oxdna.dna_structure.DNAStructureStrand object at 0x7c16977d8fd0>, <ipy_oxdna.dna_structure.DNAStructureStrand object at 0x7c16977d90d0>, <ipy_oxdna.dna_structure.DNAStructureStrand object at 0x7c16977d91d0>, <ipy_oxdna.dna_structure.DNAStructureStrand object at 0x7c16977d92d0>, <ipy_oxdna.dna_structure.DNAStructureStrand object at 0x7c16977d93d0>, <ipy_oxdna.dna_structure.DNAStructureStrand object at 0x7c16977d94d0>, <ipy_oxdna.dna_structure.DNAStructureStrand object at 0x7c16977d95d0>, <ipy_oxdna.dna_structure.DNAStructureStrand object at 0x7c16977d96d0>, <ipy_oxdna.dna_structure.DNAStructureStrand object at 0x7c16977d97d0>, <ipy_oxdna.dna_structure.DNAStructureStrand object at 0x7c16977d98d0>, <ipy_oxdna.dna_structure.DNAStructureStrand object at 0x7c16977d99d0>, <ipy_oxdna.dna_structure.DNAStructureStrand object at 0x7c16977d9ad0>, <ipy_oxdna.dna_structure.DNAStructureStrand object at 0x7c16977d9bd0>, <ipy_oxdna.dna_structure.DNAStructureStrand object at 0x7c16977d9cd0>, <ipy_oxdna.dna_structure.DNAStructureStrand object at 0x7c16977d9dd0>, <ipy_oxdna.dna_structure.DNAStructureStrand object at 0x7c16977d9ed0>, <ipy_oxdna.dna_structure.DNAStructureStrand object at 0x7c16977d9fd0>, <ipy_oxdna.dna_structure.DNAStructureStrand object at 0x7c16977da0d0>, <ipy_oxdna.dna_structure.DNAStructureStrand object at 0x7c16977da1d0>, <ipy_oxdna.dna_structure.DNAStructureStrand object at 0x7c16977da2d0>, <ipy_oxdna.dna_structure.DNAStructureStrand object at 0x7c16977da3d0>, <ipy_oxdna.dna_structure.DNAStructureStrand object at 0x7c16977da4d0>, <ipy_oxdna.dna_structure.DNAStructureStrand object at 0x7c16977da5d0>, <ipy_oxdna.dna_structure.DNAStructureStrand object at 0x7c16977da6d0>, <ipy_oxdna.dna_structure.DNAStructureStrand object at 0x7c16977da7d0>, <ipy_oxdna.dna_structure.DNAStructureStrand object at 0x7c16977da8d0>]\n"
     ]
    }
   ],
   "source": [
    "cut_staples = []\n",
    "removed_staples = []\n",
    "for strand_id, (start, end) in dna_slcd_strand_pos.items():\n",
    "    if strand_id not in new_dna_structure_strand_pos:\n",
    "        removed_staples.append(strand_id)\n",
    "    else:\n",
    "        new_start, new_end = new_dna_structure_strand_pos[strand_id]\n",
    "        if start != new_start or end != new_end:\n",
    "            cut_staples.append(strand_id)\n",
    "\n",
    "print (cut_staples)\n",
    "print (removed_staples)\n"
   ]
  },
  {
   "cell_type": "code",
   "execution_count": 11,
   "metadata": {},
   "outputs": [
    {
     "data": {
      "text/plain": [
       "{}"
      ]
     },
     "execution_count": 11,
     "metadata": {},
     "output_type": "execute_result"
    }
   ],
   "source": [
    "cut_nucleotides = {}\n",
    "for strand_id in cut_staples:\n",
    "    original_range = set(range(dna_slcd_strand_pos[strand_id][0], dna_slcd_strand_pos[strand_id][1]+1))\n",
    "    new_range = set(range(new_dna_structure_strand_pos[strand_id][0], new_dna_structure_strand_pos[strand_id][1]+1))\n",
    "    cutting_ends = original_range - new_range\n",
    "    cut_nucleotides[strand_id] = list(cutting_ends)\n",
    "\n",
    "cut_nucleotides"
   ]
  }
 ],
 "metadata": {
  "kernelspec": {
   "display_name": "myenv",
   "language": "python",
   "name": "python3"
  },
  "language_info": {
   "codemirror_mode": {
    "name": "ipython",
    "version": 3
   },
   "file_extension": ".py",
   "mimetype": "text/x-python",
   "name": "python",
   "nbconvert_exporter": "python",
   "pygments_lexer": "ipython3",
   "version": "3.11.8"
  }
 },
 "nbformat": 4,
 "nbformat_minor": 2
}
