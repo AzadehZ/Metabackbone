{
 "cells": [
  {
   "cell_type": "code",
   "execution_count": 1,
   "metadata": {},
   "outputs": [],
   "source": [
    "from itertools import combinations\n",
    "import numpy as np\n",
    "from oxDNA_analysis_tools.UTILS.oxview import oxdna_conf, from_path\n",
    "from oxDNA_analysis_tools.UTILS.RyeReader import describe, get_confs, inbox\n",
    "from pathlib import Path\n",
    "import os\n",
    "from ipy_oxdna.dna_structure import DNAStructure, DNAStructureStrand, load_dna_structure, DNABase, strand_from_info\n",
    "from copy import deepcopy\n",
    "from ipy_oxdna.oxdna_simulation import Simulation \n",
    "import copy\n",
    "from tqdm.auto import tqdm"
   ]
  },
  {
   "cell_type": "code",
   "execution_count": 2,
   "metadata": {},
   "outputs": [],
   "source": [
    "path_struct = Path('/home/ava/Dropbox (ASU)/Metabackbone/structure_files/six_helix_oxdna_file/unmodified/1512_bp')\n",
    "\n",
    "dat_path = path_struct /\"1512_bp.dat\"\n",
    "top_path = path_struct /\"1512_bp.top\""
   ]
  },
  {
   "cell_type": "code",
   "execution_count": 3,
   "metadata": {},
   "outputs": [
    {
     "name": "stderr",
     "output_type": "stream",
     "text": [
      "INFO: processed 0 / 1 confs\r"
     ]
    }
   ],
   "source": [
    "# downloading the structure and making a copy of that\n",
    "\n",
    "\n",
    "dna = load_dna_structure(top_path, dat_path)\n",
    "dna_slcd = deepcopy(dna)\n",
    "\n",
    "# dna_slcd.strands\n",
    "# dir(dna.strands[0]) "
   ]
  },
  {
   "cell_type": "code",
   "execution_count": 5,
   "metadata": {},
   "outputs": [],
   "source": [
    "\n",
    "indxs_oxview = [45,46,47,48,49,50,51,52,53,54,55,56,57,58,59,60,61,62,63,64,65,66,67,68,69,70,71,72,73,249,250,251,252,253,254,255,256,257,258,259,260,261,262,263,264,265,266,267,268,269,270,271,272,273,274,275,276,277,278,291,292,293,294,295,296,297,298,299,300,301,302,303,304,305,306,307,308,309,310,311,312,313,314,315,316,317,318,319,320,321,509,510,511,512,513,514,515,516,517,518,519,520,521,522,523,524,525,526,527,528,529,530,531,532,533,534,535,536,537,538,1291,1292,1293,1294,1295,1296,1297,1298,1299,1300,1301,1302,1303,1304,1305,1306,1307,1308,1309,1310,1311,1312,1313,1314,1315,1316,1317,1318,1319,1320,1524,1525,1526,1527,1528,1529,1530,1531,1532,1533,1534,1535,1536,1537,1538,1539,1540,1541,1542,1543,1544,1545,1546,1547,1548,1549,1550,1551,1552,1951,1952,1953,1954,1955,1956,1957,1958,1959,1960,1961,1962,1963,1964,1965,1966,1967,1976,1977,1978,1983,1984,1985,1986,1987,1988,1989,1990,1991,1992,1993,1994,1995,1996,1997,1998,1999,2000,2001,2002,2003,2004,2005,2006,2007,2008,2009,2010,2011,2012,2013,2014,2015,2016,2017,2018,2019,2020,2021,2022,2023,2024,2025,2029,2030,2031,2032,2033,2034,2035,2036,2037,2038,2039,2040,2041,2042,2043,2044,2045,2046,2047,2048,2049,2050,2051,2052,2053,2054,2055,2056,2057,2058,2059,2060,2061,2064,2065,2066,2067,2068,2069,2070,2071,2072,2073,2074,2075,2076,2608,2609,2610,2643,2644,2645,2646,2647,2648,2649,2650,2651,2652,2653,2654,2655,2656,2657,2658,2659,2660,2661,2662,2663,2664,2665,2666,2667,2668,2669,2670,2671,2672,2673,2674,2675,2676,2677,2708,2709,2710,2711,2712,2913,2914,2915,2916,2917,2918,2923,2924,2925,2926,2927,2928,2929,2930,2931,2932,2933,2934,2935,2936,2937,2938,2939,2940,2941,2942,2943]  # Correctly populate this set\n",
    "strand_list = []\n",
    "\n",
    "for strand in dna_slcd.strands:\n",
    "    bases_in_strand = []\n",
    "    for base in strand:\n",
    "        # print(f\"base UID: {base.uid}\")  \n",
    "        if base.uid in indxs_oxview:\n",
    "            bases_in_strand.append((base.base, base.pos, base.a1, base.a3))\n",
    "\n",
    "    if bases_in_strand:\n",
    "        new_strand = strand_from_info(bases_in_strand)\n",
    "        strand_list.append(new_strand)\n",
    "        # print(f\"New strand created with bases: {bases_in_strand}\")\n",
    "\n",
    "# print(f\"Total new strands created: {len(strand_list)}\")"
   ]
  },
  {
   "cell_type": "code",
   "execution_count": 6,
   "metadata": {},
   "outputs": [],
   "source": [
    "# Create new DNA structure and export it\n",
    "\n",
    "new_dna_structure = DNAStructure(strand_list, dna_slcd.time, dna_slcd.box, dna_slcd.energy)\n",
    "dat_path = path_struct /\"1512_bp_mod.dat\"\n",
    "top_path = path_struct /\"1512_bp_mod.top\"\n",
    "new_dna_structure.export_top_conf(top_path, dat_path)"
   ]
  },
  {
   "cell_type": "code",
   "execution_count": 7,
   "metadata": {},
   "outputs": [
    {
     "ename": "AttributeError",
     "evalue": "'DNAStructureStrand' object has no attribute 'base'",
     "output_type": "error",
     "traceback": [
      "\u001b[0;31m---------------------------------------------------------------------------\u001b[0m",
      "\u001b[0;31mAttributeError\u001b[0m                            Traceback (most recent call last)",
      "Cell \u001b[0;32mIn[7], line 5\u001b[0m\n\u001b[1;32m      2\u001b[0m end_bases \u001b[38;5;241m=\u001b[39m []\n\u001b[1;32m      4\u001b[0m \u001b[38;5;28;01mfor\u001b[39;00m strand \u001b[38;5;129;01min\u001b[39;00m dna_slcd\u001b[38;5;241m.\u001b[39mstrands:\n\u001b[0;32m----> 5\u001b[0m     first_base \u001b[38;5;241m=\u001b[39m strand\u001b[38;5;241m.\u001b[39mbase[\u001b[38;5;241m0\u001b[39m]\n\u001b[1;32m      6\u001b[0m     end_base \u001b[38;5;241m=\u001b[39m strand\u001b[38;5;241m.\u001b[39mbase[\u001b[38;5;241m-\u001b[39m\u001b[38;5;241m1\u001b[39m]\n\u001b[1;32m      7\u001b[0m     first_bases\u001b[38;5;241m.\u001b[39mappend(first_base)\n",
      "\u001b[0;31mAttributeError\u001b[0m: 'DNAStructureStrand' object has no attribute 'base'"
     ]
    }
   ],
   "source": [
    "first_bases = []\n",
    "end_bases = []\n",
    "\n",
    "for strand in dna_slcd.strands:\n",
    "    first_base = strand.base[0]\n",
    "    end_base = strand.base[-1]\n",
    "    first_bases.append(first_base)\n",
    "    end_bases.append(end_base)\n",
    "    \n",
    "print(first_bases)\n",
    "print(end_bases)"
   ]
  },
  {
   "cell_type": "code",
   "execution_count": null,
   "metadata": {},
   "outputs": [],
   "source": [
    "\n",
    "\n"
   ]
  },
  {
   "cell_type": "code",
   "execution_count": null,
   "metadata": {},
   "outputs": [],
   "source": []
  }
 ],
 "metadata": {
  "kernelspec": {
   "display_name": "myenv",
   "language": "python",
   "name": "python3"
  },
  "language_info": {
   "codemirror_mode": {
    "name": "ipython",
    "version": 3
   },
   "file_extension": ".py",
   "mimetype": "text/x-python",
   "name": "python",
   "nbconvert_exporter": "python",
   "pygments_lexer": "ipython3",
   "version": "3.11.8"
  }
 },
 "nbformat": 4,
 "nbformat_minor": 2
}
