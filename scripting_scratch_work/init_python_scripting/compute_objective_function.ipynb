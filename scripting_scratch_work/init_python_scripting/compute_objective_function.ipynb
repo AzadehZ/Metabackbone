{
 "cells": [
  {
   "cell_type": "code",
   "execution_count": 2,
   "metadata": {},
   "outputs": [],
   "source": [
    "import numpy as np\n",
    "from oxDNA_analysis_tools.UTILS.oxview import oxdna_conf, from_path\n",
    "from oxDNA_analysis_tools.UTILS.RyeReader import describe, get_confs\n",
    "from pathlib import Path"
   ]
  },
  {
   "cell_type": "code",
   "execution_count": 32,
   "metadata": {},
   "outputs": [
    {
     "name": "stdout",
     "output_type": "stream",
     "text": [
      "/mnt/c/Users/Matt/Dropbox (ASU)/research/collaborations/Metabackbone/structure_files/six_helix_oxdna_file/1512_bp\n",
      "/mnt/c/Users/Matt/Dropbox (ASU)/research/collaborations/Metabackbone/structure_files/six_helix_oxdna_file/1512_bp\n",
      "True\n"
     ]
    }
   ],
   "source": [
    "path_to_structs = Path('../../structure_files/six_helix_oxdna_file')\n",
    "\n",
    "systems = ['1512_bp', '2268_bp', '3024_bp']\n",
    "\n",
    "path_to_sys = [Path(f'{path_to_structs}/{sys}') for sys in systems]\n",
    "\n",
    "print(path_to_sys[0].resolve().as_posix())\n",
    "print('/mnt/c/Users/Matt/Dropbox (ASU)/research/collaborations/Metabackbone/structure_files/six_helix_oxdna_file/1512_bp')\n",
    "\n",
    "print(path_to_sys[0].resolve().as_posix() == '/mnt/c/Users/Matt/Dropbox (ASU)/research/collaborations/Metabackbone/structure_files/six_helix_oxdna_file/1512_bp')\n"
   ]
  }
 ],
 "metadata": {
  "kernelspec": {
   "display_name": "Python 3",
   "language": "python",
   "name": "python3"
  },
  "language_info": {
   "codemirror_mode": {
    "name": "ipython",
    "version": 3
   },
   "file_extension": ".py",
   "mimetype": "text/x-python",
   "name": "python",
   "nbconvert_exporter": "python",
   "pygments_lexer": "ipython3",
   "version": "3.9.13"
  }
 },
 "nbformat": 4,
 "nbformat_minor": 2
}
